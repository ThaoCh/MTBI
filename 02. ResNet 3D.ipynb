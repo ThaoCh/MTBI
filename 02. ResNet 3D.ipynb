{
 "cells": [
  {
   "cell_type": "code",
   "execution_count": 2,
   "metadata": {},
   "outputs": [],
   "source": [
    "import numpy as np\n",
    "import pandas as pd"
   ]
  },
  {
   "cell_type": "code",
   "execution_count": 5,
   "metadata": {},
   "outputs": [
    {
     "name": "stdout",
     "output_type": "stream",
     "text": [
      "['HT102', 'HT103', 'HT105', 'HT106', 'HT107', 'HT109', 'HT111', 'HT112', 'HT113', 'HT114', 'HT115', 'HT116', 'HT117', 'HT118', 'HT119', 'HT121', 'HT122', 'HT123', 'HT124', 'HT125', 'HT126', 'HT127', 'HT128', 'HT129', 'HT130', 'HT131', 'HT132', 'N101', 'N103', 'N105', 'N108', 'N109', 'N110', 'N111', 'N112', 'N113', 'N118', 'N119', 'N120', 'N126', 'N127', 'N128', 'N129', 'N130', 'N131', 'N132', 'N133', 'N134', 'N135', 1, 2, 3, 4, 5, 6, 7, 8, 10, 11, 12, 13, 14, 15, 19, 20, 21, 22, 23, 24, 25, 26, 27, 28, 29, 31, 32, 33, 35, 36, 37, 38, 39, 40, 41, 42, 43, 44, 45, 46, 47, 48, 49, 50, 51, 52, 53, 54, 55, 56, 57, 58, 59, 60, 61, 62, 63, 64, 65, 66, 67, 68, 69, 70, 71, 72, 73, 1, 2, 3, 4, 5, 6, 7, 8, 9, 10, 11, 12, 13, 14, 18, 19, 20, 21, 22, 23, 24, 25, 26, 27, 28, 29, 30, 31, 32, 33, 34, 35, 36, 37, 38, 39, 40, 41, 42, 43, 44, 45, 46, 47, 48, 49, 50, 51, 52, 53]\n"
     ]
    }
   ],
   "source": [
    "OLD_PATH = './data/old_65subj_stats JFR.xlsx'\n",
    "\n",
    "old_data = pd.read_excel(OLD_PATH, header=0, index_col=0, sheet_name=0)\n",
    "old_idx = list(old_data.index)\n",
    "\n",
    "positive_idx = np.arange(73) + 1\n",
    "positive_idx = np.delete(positive_idx, [8, 15, 16, 17, 29, 33])\n",
    "\n",
    "negative_idx = np.arange(53) + 1\n",
    "negative_idx = np.delete(negative_idx, [14, 15, 16])\n",
    "\n",
    "image_index =  list(old_idx) + list(positive_idx) + list (negative_idx)\n",
    "print(image_index)"
   ]
  },
  {
   "cell_type": "code",
   "execution_count": null,
   "metadata": {},
   "outputs": [],
   "source": []
  }
 ],
 "metadata": {
  "kernelspec": {
   "display_name": "IVP",
   "language": "python",
   "name": "cs231"
  },
  "language_info": {
   "codemirror_mode": {
    "name": "ipython",
    "version": 3
   },
   "file_extension": ".py",
   "mimetype": "text/x-python",
   "name": "python",
   "nbconvert_exporter": "python",
   "pygments_lexer": "ipython3",
   "version": "3.7.2"
  }
 },
 "nbformat": 4,
 "nbformat_minor": 2
}
