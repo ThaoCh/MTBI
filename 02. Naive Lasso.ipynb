{
 "cells": [
  {
   "cell_type": "code",
   "execution_count": 11,
   "metadata": {},
   "outputs": [],
   "source": [
    "import numpy as np\n",
    "import matplotlib.pyplot as plt\n",
    "import pickle\n",
    "import pandas as pd\n",
    "from tqdm import tqdm\n",
    "import time\n",
    "\n",
    "from copy import deepcopy\n",
    "from sklearn.feature_selection import RFECV\n",
    "from sklearn import svm\n",
    "from sklearn.linear_model import Lasso, Ridge, ElasticNet, LinearRegression\n",
    "from sklearn.metrics import r2_score\n",
    "from sklearn.model_selection import train_test_split, KFold, RepeatedKFold"
   ]
  },
  {
   "cell_type": "code",
   "execution_count": 21,
   "metadata": {},
   "outputs": [
    {
     "name": "stdout",
     "output_type": "stream",
     "text": [
      "          mean-1_L_thal-ad  mean-1_L_thal-ak  mean-1_L_thal-awf  \\\n",
      "SubjectN                                                          \n",
      "HT102             1.146115          0.187892           0.035304   \n",
      "HT103             1.174811          0.266403           0.070970   \n",
      "HT105             1.191020          0.269101           0.072415   \n",
      "HT106             1.291676          0.362108           0.131123   \n",
      "HT107             1.271981          0.347583           0.120814   \n",
      "\n",
      "          mean-1_L_thal-eas_De_par  mean-1_L_thal-eas_De_perp  \\\n",
      "SubjectN                                                        \n",
      "HT102                     0.021227                   0.022265   \n",
      "HT103                     0.063697                   0.103479   \n",
      "HT105                     0.062031                   0.082552   \n",
      "HT106                     0.110743                   0.149738   \n",
      "HT107                     0.089054                   0.110075   \n",
      "\n",
      "          mean-1_L_thal-eas_tort  mean-1_L_thal-FA  mean-1_L_thal-ias_Da  \\\n",
      "SubjectN                                                                   \n",
      "HT102                  14.864212          1.298027              0.468984   \n",
      "HT103                  17.544597          1.348326              0.554647   \n",
      "HT105                  12.742335          1.182299              0.217258   \n",
      "HT106                   5.709176          1.246656              0.309142   \n",
      "HT107                   4.541416          1.270332              0.298333   \n",
      "\n",
      "          mean-1_L_thal-md  mean-1_L_thal-mk  ...  kut-CC_Splenium_mask-awf  \\\n",
      "SubjectN                                      ...                             \n",
      "HT102             0.219946          0.309073  ...                  0.464316   \n",
      "HT103             0.307633          0.440332  ...                  0.288001   \n",
      "HT105             0.047201          0.034389  ...                  0.355678   \n",
      "HT106             0.095569          0.086894  ...                  0.174066   \n",
      "HT107             0.089003          0.074326  ...                  0.216746   \n",
      "\n",
      "          kut-CC_Splenium_mask-eas_De_par  kut-CC_Splenium_mask-eas_De_perp  \\\n",
      "SubjectN                                                                      \n",
      "HT102                            0.843953                          3.574272   \n",
      "HT103                            0.082772                          0.227447   \n",
      "HT105                            0.244817                          0.741531   \n",
      "HT106                            0.027063                          0.085746   \n",
      "HT107                            0.037689                          0.127031   \n",
      "\n",
      "          kut-CC_Splenium_mask-eas_tort  kut-CC_Splenium_mask-FA  \\\n",
      "SubjectN                                                           \n",
      "HT102                         13.579051                 1.720499   \n",
      "HT103                         -0.257857                 1.639774   \n",
      "HT105                          2.861590                 1.775243   \n",
      "HT106                         -0.170006                 1.505273   \n",
      "HT107                         -0.295990                 1.699540   \n",
      "\n",
      "          kut-CC_Splenium_mask-ias_Da  kut-CC_Splenium_mask-md  \\\n",
      "SubjectN                                                         \n",
      "HT102                        0.497342                 0.247349   \n",
      "HT103                        0.509208                 0.259293   \n",
      "HT105                        0.594671                 0.353633   \n",
      "HT106                        0.390355                 0.152377   \n",
      "HT107                        0.485188                 0.235407   \n",
      "\n",
      "          kut-CC_Splenium_mask-mk  kut-CC_Splenium_mask-rd  \\\n",
      "SubjectN                                                     \n",
      "HT102                    0.070624                 0.247663   \n",
      "HT103                    0.110998                 0.392210   \n",
      "HT105                    0.047524                 0.389818   \n",
      "HT106                    0.016629                 0.083804   \n",
      "HT107                    0.007124                 0.157344   \n",
      "\n",
      "          kut-CC_Splenium_mask-rk  \n",
      "SubjectN                           \n",
      "HT102                    1.048005  \n",
      "HT103                    2.833600  \n",
      "HT105                    0.117140  \n",
      "HT106                    0.609325  \n",
      "HT107                   -0.160696  \n",
      "\n",
      "[5 rows x 360 columns]        Unnamed: 0.1  T1 Letter Number  T2 Letter Number  T3 Letter Number  \\\n",
      "HT102             0               NaN               NaN               0.0   \n",
      "HT103             1               NaN               NaN               NaN   \n",
      "HT105             3               NaN               NaN               0.3   \n",
      "HT106             4               NaN               NaN               0.7   \n",
      "HT107             5               NaN               NaN              -0.3   \n",
      "\n",
      "       Digit Span Forward T1  Digit Span Forward T2  Digit Span Forward T3  \\\n",
      "HT102                  -0.33                    NaN                  -0.24   \n",
      "HT103                  -0.33                    NaN                    NaN   \n",
      "HT105                  -1.00                    NaN                  -0.96   \n",
      "HT106                   1.00                    NaN                  -0.96   \n",
      "HT107                   2.67                    NaN                   1.57   \n",
      "\n",
      "       Digit Span Backward T1  Digit Span Backward T2  Digit Span Backward T3  \\\n",
      "HT102                   -0.67                     NaN                    0.54   \n",
      "HT103                   -1.00                     NaN                     NaN   \n",
      "HT105                    1.00                     NaN                    1.21   \n",
      "HT106                   -0.67                     NaN                   -0.13   \n",
      "HT107                    2.00                     NaN                    1.21   \n",
      "\n",
      "       ...  RCFT Delayed T3  DKEFS T1  DKEFS T2  DKEFS T3  Stroop T1  \\\n",
      "HT102  ...              0.9       0.0       NaN       0.0       0.69   \n",
      "HT103  ...              NaN      -0.3       NaN       NaN       0.20   \n",
      "HT105  ...             -1.3       1.6       NaN       2.6       0.97   \n",
      "HT106  ...              0.1      -0.7       NaN       1.0       0.59   \n",
      "HT107  ...             -0.1       1.0       NaN       1.3       0.69   \n",
      "\n",
      "       Stroop T2  Stroop T3  SDMT T1  SDMT T2  SDMT T3  \n",
      "HT102        NaN       0.59     1.09      NaN     0.20  \n",
      "HT103        NaN        NaN     1.51      NaN      NaN  \n",
      "HT105        NaN       0.97    -0.62      NaN     0.62  \n",
      "HT106        NaN       0.01    -0.04      NaN     1.50  \n",
      "HT107        NaN       0.69    -1.07      NaN     0.14  \n",
      "\n",
      "[5 rows x 34 columns]\n"
     ]
    }
   ],
   "source": [
    "data_path = 'data_154.xlsx'\n",
    "label_path = 'label_154.xlsx'\n",
    "\n",
    "data = pd.read_excel(data_path, index_col=0, sheet_name=0)\n",
    "label = pd.read_excel(label_path, index_col=0, sheet_name=0)\n",
    "features = np.array (list(data.columns))\n",
    "\n",
    "predict = [ 'T1 Letter Number']\n",
    "\n",
    "negative_idx = np.array ((np.arange(22) + 27).tolist() + (np.arange(48) + 106).tolist())\n",
    "\n",
    "print(data.head(), label.head())"
   ]
  },
  {
   "cell_type": "code",
   "execution_count": 29,
   "metadata": {
    "scrolled": false
   },
   "outputs": [
    {
     "name": "stderr",
     "output_type": "stream",
     "text": [
      "125it [00:00, 455.24it/s]\n"
     ]
    },
    {
     "name": "stdout",
     "output_type": "stream",
     "text": [
      "For np T1 Letter Number, the mean r2 scores for prediction is -0.433244 with std = 0.921710\n"
     ]
    },
    {
     "data": {
      "image/png": "[encoded data removed]",
      "text/plain": [
       "<Figure size 432x288 with 1 Axes>"
      ]
     },
     "metadata": {
      "needs_background": "light"
     },
     "output_type": "display_data"
    },
    {
     "name": "stdout",
     "output_type": "stream",
     "text": [
      "For np T1 Letter Number, the related features are ['3m-CC_Body_mask-rk' '4m-CC_Splenium_mask-rk' 'kut-1_L_thal-rk']\n"
     ]
    }
   ],
   "source": [
    "\n",
    "for p in predict:\n",
    "\n",
    "    X = data.iloc[negative_idx]\n",
    "    y = (label.iloc[negative_idx])[p]\n",
    "        \n",
    "    features = np.array (list(X.columns))\n",
    "    \n",
    "    drop = y.notnull()\n",
    "\n",
    "    X = X[drop]\n",
    "    y = y[drop]\n",
    "    \n",
    "    X = (X.values)\n",
    "    y = (y.values)\n",
    "    \n",
    "    nfold = 5\n",
    "    nrepeats=25\n",
    "    kf = RepeatedKFold(n_splits=nfold, n_repeats=nrepeats)\n",
    "    \n",
    "    scores = np.zeros([nfold*nrepeats])\n",
    "    \n",
    "    a = 0.5\n",
    "    \n",
    "    for isplit, Ind in enumerate(tqdm(kf.split(X))):\n",
    "\n",
    "        # Get the training data in the split\n",
    "        Itr, Its = Ind\n",
    "\n",
    "        Xtr = X[Itr]\n",
    "        ytr = y[Itr]\n",
    "        Xts = X[Its]\n",
    "        yts = y[Its]\n",
    "\n",
    "        regr = Lasso(alpha=a, max_iter=50000)\n",
    "        regr.fit(Xtr, ytr)\n",
    "        yhat = regr.predict(Xts)\n",
    "        scores[isplit] = r2_score(yts, yhat)\n",
    "\n",
    "    print('For np {0}, the mean r2 scores for prediction is {1:.6f} with std = {2:.6f}'.format(p, np.mean(scores), np.std(scores)))\n",
    "    \n",
    "    regr = Lasso(alpha=a, max_iter=50000)\n",
    "    regr.fit(X, y)\n",
    "\n",
    "    lasso_coeff = regr.coef_\n",
    "    # showing the stem graph of lasso coeff\n",
    "    plt.stem(np.arange(*lasso_coeff.shape), lasso_coeff)\n",
    "    plt.show()\n",
    "    \n",
    "    print('For np {0}, the related features are {1}'.format (p, features[np.nonzero(lasso_coeff)]))"
   ]
  },
  {
   "cell_type": "code",
   "execution_count": 3,
   "metadata": {},
   "outputs": [
    {
     "name": "stdout",
     "output_type": "stream",
     "text": [
      "Fitting estimator with 360 features.\n",
      "Fitting estimator with 350 features.\n",
      "Fitting estimator with 340 features.\n",
      "Fitting estimator with 330 features.\n",
      "Fitting estimator with 320 features.\n",
      "Fitting estimator with 310 features.\n",
      "Fitting estimator with 300 features.\n",
      "Fitting estimator with 290 features.\n",
      "Fitting estimator with 280 features.\n",
      "Fitting estimator with 270 features.\n",
      "Fitting estimator with 260 features.\n",
      "Fitting estimator with 250 features.\n",
      "Fitting estimator with 240 features.\n",
      "Fitting estimator with 230 features.\n",
      "Fitting estimator with 220 features.\n",
      "Fitting estimator with 210 features.\n",
      "Fitting estimator with 200 features.\n",
      "Fitting estimator with 190 features.\n",
      "Fitting estimator with 180 features.\n",
      "Fitting estimator with 170 features.\n",
      "Fitting estimator with 160 features.\n",
      "Fitting estimator with 150 features.\n",
      "Fitting estimator with 140 features.\n",
      "Fitting estimator with 130 features.\n",
      "Fitting estimator with 120 features.\n",
      "Fitting estimator with 110 features.\n",
      "Fitting estimator with 100 features.\n",
      "Fitting estimator with 90 features.\n",
      "Fitting estimator with 80 features.\n",
      "Fitting estimator with 70 features.\n",
      "Fitting estimator with 60 features.\n",
      "Fitting estimator with 50 features.\n",
      "Fitting estimator with 40 features.\n",
      "Fitting estimator with 30 features.\n",
      "Fitting estimator with 20 features.\n",
      "Optimal number of features : 10\n"
     ]
    },
    {
     "data": {
      "image/png": "[encoded data removed]",
      "text/plain": [
       "<Figure size 432x288 with 1 Axes>"
      ]
     },
     "metadata": {
      "needs_background": "light"
     },
     "output_type": "display_data"
    }
   ],
   "source": [
    "for p in predict:\n",
    "\n",
    "    X = data\n",
    "    y = label[p]\n",
    "\n",
    "    features = np.array (list(X.columns))\n",
    "    \n",
    "    drop = y.notnull()\n",
    "\n",
    "    X = X[drop]\n",
    "    y = y[drop]\n",
    "    \n",
    "    X = (X.values)\n",
    "    y = (y.values)\n",
    "    \n",
    "    nfold = 5\n",
    "    nrepeats = 2\n",
    "    \n",
    "    kf = RepeatedKFold(n_splits=nfold, n_repeats=nrepeats)\n",
    "    \n",
    "    model = svm.SVR(C=25, epsilon=0.1, kernel='linear', degree=4, gamma=10, tol=0.001, cache_size=200, max_iter=-1)\n",
    "    \n",
    "    rfecv = RFECV(estimator=model, step=10, cv=kf, scoring='r2', verbose=1, n_jobs=-1)\n",
    "    rfecv.fit(X, y)\n",
    "\n",
    "    print(\"Optimal number of features : %d\" % rfecv.n_features_)\n",
    "\n",
    "    # Plot number of features VS. cross-validation scores\n",
    "    plt.figure()\n",
    "    plt.xlabel(\"Number of features selected\")\n",
    "    plt.ylabel(\"Cross validation score (nb of correct classifications)\")\n",
    "    plt.plot(range(1, len(rfecv.grid_scores_) + 1), rfecv.grid_scores_)\n",
    "    plt.show()"
   ]
  },
  {
   "cell_type": "code",
   "execution_count": 79,
   "metadata": {},
   "outputs": [
    {
     "name": "stderr",
     "output_type": "stream",
     "text": [
      "50it [00:04, 12.25it/s]\n"
     ]
    },
    {
     "name": "stdout",
     "output_type": "stream",
     "text": [
      "the mean r2 scores for prediction is 0.984156 with std = 0.110473\n"
     ]
    }
   ],
   "source": [
    "scores = np.zeros([nfold*nrepeats])\n",
    "\n",
    "for isplit, Ind in enumerate(tqdm(kf.split(X))):\n",
    "    \n",
    "    # Get the training data in the split\n",
    "    Itr, Its = Ind\n",
    "    \n",
    "    Xtr = X[Itr]\n",
    "    ytr = y[Itr]\n",
    "    Xts = X[Its]\n",
    "    yts = y[Its]\n",
    "    \n",
    "    regr = Lasso(alpha=0.005, max_iter=10000)\n",
    "    regr.fit(Xtr, ytr)\n",
    "    scores[isplit] = regr.score(Xts, yts)\n",
    "\n",
    "print('the mean r2 scores for prediction is {0:.6f} with std = {1:.6f}'.format(np.mean(scores), np.std(scores)))"
   ]
  },
  {
   "cell_type": "code",
   "execution_count": 80,
   "metadata": {},
   "outputs": [],
   "source": [
    "regr = Lasso(alpha=0.005, max_iter=10000)\n",
    "regr.fit(X, y)\n",
    "\n",
    "lasso_coeff = regr.coef_"
   ]
  },
  {
   "cell_type": "code",
   "execution_count": 81,
   "metadata": {},
   "outputs": [
    {
     "data": {
      "image/png": "[encoded data removed]",
      "text/plain": [
       "<Figure size 432x288 with 1 Axes>"
      ]
     },
     "metadata": {
      "needs_background": "light"
     },
     "output_type": "display_data"
    }
   ],
   "source": [
    "plt.stem(np.arange(*lasso_coeff.shape), lasso_coeff)\n",
    "plt.show()"
   ]
  },
  {
   "cell_type": "code",
   "execution_count": 97,
   "metadata": {},
   "outputs": [
    {
     "name": "stdout",
     "output_type": "stream",
     "text": [
      "the only related features are ['3m-CC_Body_mask-rk' '4m-1_L_thal-eas_tort' '4m-1_L_thal-rk'\n",
      " 'kut-CC_Splenium_mask-eas_tort']\n"
     ]
    }
   ],
   "source": [
    "print('the only related features are {}'.format (features[np.nonzero(lasso_coeff)]))"
   ]
  },
  {
   "cell_type": "code",
   "execution_count": 39,
   "metadata": {},
   "outputs": [],
   "source": [
    "def greedy_forward_SVM(F, y, num_feature, num_selected, num_repeats, num_test, C_val, Gamma_val, eps_val):\n",
    "    '''\n",
    "    Args:\n",
    "        F: data\n",
    "        y: label\n",
    "        num_feature: number of feature in total. should be 120 but only 100\n",
    "        num_selected: number of feature selected\n",
    "        num_repeats: iter of repeat to avoid noise\n",
    "        num_test: number of test sample\n",
    "        C_val: c value as SVM hypter parameter\n",
    "        Gamma_val: gamma value as SVM hyper parameter\n",
    "        eps_val: eplison value as SVM hyper parameter\n",
    "    '''\n",
    "    best_acc_featsize = np.zeros((num_feature,))  ### accuracy with best subset of different sizes\n",
    "    all_feat_remained = np.arange(num_feature)\n",
    "    feat_order = list()\n",
    "\n",
    "    num_samples = F.shape[0]\n",
    "\n",
    "    for i in range(num_selected):  ## adds one feature per step\n",
    "        # iterating through all possible i\n",
    "\n",
    "        train_acc_cur = np.zeros((len(all_feat_remained), num_repeats))\n",
    "        test_acc_cur = np.zeros((len(all_feat_remained), num_repeats))\n",
    "        train_acc_avg = np.zeros((len(all_feat_remained),))\n",
    "        test_acc_avg = np.zeros((len(all_feat_remained),))\n",
    "        # print(\"%d-th feature selection\" % ( i+1) )\n",
    "\n",
    "        for j in range(len(all_feat_remained)):  ## selects one feature out of the remaining ones\n",
    "\n",
    "            cur_feat_list = deepcopy(feat_order)\n",
    "            cur_feat_list.append(all_feat_remained[j])\n",
    "            X = F[:, cur_feat_list]\n",
    "            # print(\"%d-th feature selection and feature list= [%s]\" % ( i+1, ', '.join(map(str, cur_feat_list))))\n",
    "\n",
    "            for iter in range(num_repeats):\n",
    "                # print(\"%d-th feature selection and %d-th iteration and feature list= [%s]\" % ( i+1, iter+1,', '.join(map(str, cur_feat_list))))\n",
    "\n",
    "                np.random.seed(3 * iter + 10)\n",
    "                inds = np.random.choice(len(y), num_test)\n",
    "\n",
    "                X_test = X[inds, :]\n",
    "                y_test = y[inds]\n",
    "                X_train = np.delete(X, inds, 0)\n",
    "                y_train = np.delete(y, inds)\n",
    "\n",
    "                clf = svm.SVR(C=C_val, epsilon=eps_val, kernel='rbf', degree=4, gamma=Gamma_val, tol=0.001,\n",
    "                              cache_size=200, max_iter=-1)\n",
    "                clf.fit(X_train, y_train)\n",
    "                predicted_train_labels = clf.predict(X_train)\n",
    "                train_score = clf.score(X_train, y_train)\n",
    "                # train_error= sum( [1. for k in pred_diff_train if k != 0])/len(predicted_train_labels)\n",
    "                train_acc_cur[j, iter] = train_score\n",
    "                predicted_test_labels = clf.predict(X_test)\n",
    "                test_score = clf.score(X_test, y_test)\n",
    "                # test_error= sum( [1. for k in pred_diff_test if k != 0])/len(predicted_test_labels)\n",
    "                test_acc_cur[j, iter] = test_score\n",
    "                # print(\"%d-th feature, current list [%s], and its acc= %f\" % ( j+1, ', '.join(map(str, cur_feat_list)), test_acc_cur[ j, iter] ))\n",
    "\n",
    "        for k in range(len(all_feat_remained)):\n",
    "            train_acc_avg[k] = np.mean(train_acc_cur[k, :])\n",
    "            test_acc_avg[k] = np.mean(test_acc_cur[k, :])\n",
    "\n",
    "        best_acc_featsize[i] = np.max(test_acc_avg)\n",
    "        best_testacc_ind = np.unravel_index(test_acc_avg.argmax(), test_acc_avg.shape)\n",
    "        feat_order.append(all_feat_remained[best_testacc_ind])\n",
    "        # print(\" current best feature index= %d\" %  (all_feat_remained[best_testacc_ind]) )\n",
    "\n",
    "        all_feat_remained = np.delete(all_feat_remained, best_testacc_ind, 0)\n",
    "\n",
    "    return feat_order, best_acc_featsize"
   ]
  },
  {
   "cell_type": "code",
   "execution_count": 40,
   "metadata": {},
   "outputs": [],
   "source": [
    "X = data.iloc[negative_idx]\n",
    "y = (label.iloc[negative_idx])[ 'T1 Letter Number']\n",
    "\n",
    "features = np.array (list(X.columns))\n",
    "\n",
    "drop = y.notnull()\n",
    "\n",
    "X = X[drop]\n",
    "y = y[drop]\n",
    "\n",
    "X = (X.values)\n",
    "y = (y.values)"
   ]
  },
  {
   "cell_type": "code",
   "execution_count": 41,
   "metadata": {},
   "outputs": [
    {
     "name": "stdout",
     "output_type": "stream",
     "text": [
      "Start\n",
      "( 27.826 , 10 ) value of (C, Gamma), and best feat indices= [150 294 297  72 295 265  56 272 285  80]\n",
      "maximum test accuracy= 0.328, achieved by using 10 features and ( C, Gamma)= ( 27.826, 10.000) from 14 metrics\n",
      "Selected feature for 3xiter= [150. 294. 297.  72. 295. 265.  56. 272. 285.  80.]\n",
      "['2m-CC_Body_mask-FA' '4m-CC_Splenium_mask-FA' '4m-CC_Splenium_mask-mk'\n",
      " 'std-2_R_thal-ad' '4m-CC_Splenium_mask-ias_Da' '4m-CC_Body_mask-ak'\n",
      " 'mean-CC_Splenium_mask-md' '4m-CC_Body_mask-md' '4m-CC_Genu_mask-mk'\n",
      " 'std-2_R_thal-md']\n",
      "total time= 151.49968814849854\n"
     ]
    }
   ],
   "source": [
    "start_time = time.time()\n",
    "\n",
    "num_feature = X.shape[1]\n",
    "num_test = 20\n",
    "num_repeats = 25  ## shows number of times we shuffle the data and test on testing\n",
    "train_accuracies = [0] * num_repeats\n",
    "test_accuracies = [0] * num_repeats\n",
    "\n",
    "tot_num = X.shape[0]\n",
    "\n",
    "num_selected = 10\n",
    "eps = 0.025\n",
    "\n",
    "# C_range = np.logspace(-3, 3.0, num=5)\n",
    "# gamma_range = np.logspace(-5, 4, 5)\n",
    "\n",
    "C_range = np.array([27.826])\n",
    "gamma_range = np.array([10])\n",
    "\n",
    "test_acc_all = np.zeros((C_range.shape[0], gamma_range.shape[0], num_feature))\n",
    "selected_feat = np.zeros((C_range.shape[0], gamma_range.shape[0], num_selected))\n",
    "\n",
    "print(\"Start\")\n",
    "for i in range(len(C_range)):\n",
    "    for j in range(len(gamma_range)):\n",
    "        a1, a2 = greedy_forward_SVM(X, y, num_feature, num_selected, num_repeats, num_test, C_range[i], gamma_range[j],\n",
    "                                    eps)\n",
    "        a3 = np.asarray(a1)\n",
    "        test_acc_all[i, j, :] = a2\n",
    "        selected_feat[i, j, :] = a3\n",
    "        print(\"(\", C_range[i], \",\", gamma_range[j], \") value of (C, Gamma), and best feat indices=\", a3)\n",
    "\n",
    "max_ind = np.unravel_index(test_acc_all.argmax(), test_acc_all.shape)\n",
    "print(\"maximum test accuracy= %.3f, achieved by using %d features and ( C, Gamma)= ( %.3f, %.3f) from 14 metrics\" % (\n",
    "test_acc_all[max_ind], max_ind[2] + 1, C_range[max_ind[0]], gamma_range[max_ind[1]]))\n",
    "print(\"Selected feature for 3xiter=\", selected_feat[max_ind[0], max_ind[1], 0:max_ind[2] + 1])\n",
    "print(features[np.array(selected_feat[max_ind[0], max_ind[1], 0:max_ind[2] + 1], dtype=np.int)])\n",
    "# print(\"\\nMaximum Train Accuracy with 100 iteration: %f \" % np.max(train_acc_all), \"%\")\n",
    "# print(\"\\nMaximum Test Accuracy: %f, by feature indices= %s \" % ( np.max(test_acc_avg), subset_indices[best_testacc_ind[0]] ) )\n",
    "\n",
    "# print(\"\\nall accuracies:\", test_acc_avg)\n",
    "\n",
    "end_time = time.time()\n",
    "tot_time = end_time - start_time\n",
    "print(\"total time=\", tot_time)\n"
   ]
  },
  {
   "cell_type": "code",
   "execution_count": null,
   "metadata": {},
   "outputs": [],
   "source": []
  },
  {
   "cell_type": "code",
   "execution_count": null,
   "metadata": {},
   "outputs": [],
   "source": []
  }
 ],
 "metadata": {
  "kernelspec": {
   "display_name": "IVP",
   "language": "python",
   "name": "cs231"
  },
  "language_info": {
   "codemirror_mode": {
    "name": "ipython",
    "version": 3
   },
   "file_extension": ".py",
   "mimetype": "text/x-python",
   "name": "python",
   "nbconvert_exporter": "python",
   "pygments_lexer": "ipython3",
   "version": "3.7.2"
  }
 },
 "nbformat": 4,
 "nbformat_minor": 2
}
