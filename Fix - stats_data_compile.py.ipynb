{
 "cells": [
  {
   "cell_type": "code",
   "execution_count": 32,
   "metadata": {},
   "outputs": [],
   "source": [
    "import numpy as np\n",
    "import pickle, random, time\n",
    "from sklearn import svm\n",
    "from itertools import chain, combinations\n",
    "from copy import deepcopy\n",
    "from sklearn.decomposition import PCA\n",
    "import pandas as pd"
   ]
  },
  {
   "cell_type": "code",
   "execution_count": 35,
   "metadata": {},
   "outputs": [
    {
     "name": "stdout",
     "output_type": "stream",
     "text": [
      "Index(['HT102', 'HT102-2', 'HT103', 'HT105', 'HT105-2', 'HT106', 'HT106-2',\n",
      "       'HT107', 'HT107-2', 'HT109', 'HT109-2', 'HT111', 'HT111-2', 'HT112',\n",
      "       'HT112-2', 'HT113', 'HT113-2', 'HT114', 'HT115', 'HT116', 'HT117',\n",
      "       'HT117-2', 'HT118', 'HT118-2', 'HT119', 'HT121', 'HT121-2', 'HT122',\n",
      "       'HT123', 'HT123-2', 'HT124', 'HT125', 'HT126', 'HT126-2', 'HT127',\n",
      "       'HT127-2', 'HT128', 'HT128-2', 'HT129', 'HT130', 'HT131', 'HT132',\n",
      "       'N101', 'N101-2', 'N103', 'N105', 'N108', 'N109', 'N110', 'N111',\n",
      "       'N112', 'N113', 'N118', 'N119', 'N120', 'N126', 'N127', 'N128', 'N129',\n",
      "       'N130', 'N131', 'N132', 'N133', 'N134', 'N135'],\n",
      "      dtype='object', name='subj')\n"
     ]
    }
   ],
   "source": [
    "old_PATH = './data/old_65subj_stats JFR.xlsx' # Relative Path\n",
    "old_FA_mean = pd.read_excel(old_PATH, index_col=0, sheet_name=5)\n",
    "print(old_FA_mean.index)"
   ]
  },
  {
   "cell_type": "code",
   "execution_count": 15,
   "metadata": {},
   "outputs": [
    {
     "name": "stdout",
     "output_type": "stream",
     "text": [
      "(182, 100)\n"
     ]
    }
   ],
   "source": [
    "###OLD DATA###\n",
    "old_PATH = './data/old_65subj_stats JFR.xlsx' # Relative Path\n",
    "old_FA_mean = pd.read_excel(old_PATH, sheet_name=1)\n",
    "old_FA_std = pd.read_excel(old_PATH, sheet_name=2)\n",
    "old_AD_mean = pd.read_excel(old_PATH, sheet_name=3)\n",
    "old_AD_std = pd.read_excel(old_PATH, sheet_name=4)\n",
    "old_AK_mean = pd.read_excel(old_PATH, sheet_name=5)\n",
    "old_AK_std = pd.read_excel(old_PATH, sheet_name=6)\n",
    "old_AWF_mean = pd.read_excel(old_PATH, sheet_name=7)\n",
    "old_AWF_std = pd.read_excel(old_PATH, sheet_name=8)\n",
    "old_Depar_mean = pd.read_excel(old_PATH, sheet_name=9)\n",
    "old_Depar_std = pd.read_excel(old_PATH, sheet_name=10)\n",
    "old_Deperp_mean = pd.read_excel(old_PATH, sheet_name=11)\n",
    "old_Deperp_std = pd.read_excel(old_PATH, sheet_name=12)\n",
    "old_Tort_mean = pd.read_excel(old_PATH, sheet_name=13)\n",
    "old_Tort_std = pd.read_excel(old_PATH, sheet_name=14)\n",
    "old_DA_mean = pd.read_excel(old_PATH, sheet_name=15)\n",
    "old_DA_std = pd.read_excel(old_PATH, sheet_name=16)\n",
    "old_MD_mean = pd.read_excel(old_PATH, sheet_name=17)\n",
    "old_MD_std = pd.read_excel(old_PATH, sheet_name=18)\n",
    "old_MK_mean = pd.read_excel(old_PATH, sheet_name=19)\n",
    "old_MK_std = pd.read_excel(old_PATH, sheet_name=20)\n",
    "old_RD_mean = pd.read_excel(old_PATH, sheet_name=21)\n",
    "old_RD_std = pd.read_excel(old_PATH, sheet_name=22)\n",
    "old_RK_mean = pd.read_excel(old_PATH, sheet_name=23)\n",
    "old_RK_std = pd.read_excel(old_PATH, sheet_name=24)\n",
    "\n",
    "##NEW DATA##\n",
    "new_PATH = './data/117_Stats_Rep.xlsx'\n",
    "\n",
    "AD_mean = pd.read_excel(new_PATH, sheet_name=0)\n",
    "AD_std = pd.read_excel(new_PATH, sheet_name=1)\n",
    "AK_mean = pd.read_excel(new_PATH, sheet_name=2)\n",
    "AK_std = pd.read_excel(new_PATH, sheet_name=3)\n",
    "AWF_mean = pd.read_excel(new_PATH, sheet_name=4)\n",
    "AWF_std = pd.read_excel(new_PATH, sheet_name=5)\n",
    "DA_mean = pd.read_excel(new_PATH, sheet_name=6)\n",
    "DA_std = pd.read_excel(new_PATH, sheet_name=7)\n",
    "Depar_mean = pd.read_excel(new_PATH, sheet_name=8)\n",
    "Depar_std = pd.read_excel(new_PATH, sheet_name=9)\n",
    "Deperp_mean = pd.read_excel(new_PATH, sheet_name=10)\n",
    "Deperp_std = pd.read_excel(new_PATH, sheet_name=11)\n",
    "FA_mean = pd.read_excel(new_PATH, sheet_name=12)\n",
    "FA_std = pd.read_excel(new_PATH, sheet_name=13)\n",
    "MD_mean = pd.read_excel(new_PATH, sheet_name=14)\n",
    "MD_std = pd.read_excel(new_PATH, sheet_name=15)\n",
    "MK_mean = pd.read_excel(new_PATH, sheet_name=16)\n",
    "MK_std = pd.read_excel(new_PATH, sheet_name=17)\n",
    "RD_mean = pd.read_excel(new_PATH, sheet_name=18)\n",
    "RD_std = pd.read_excel(new_PATH, sheet_name=19)\n",
    "RK_mean = pd.read_excel(new_PATH, sheet_name=20)\n",
    "RK_std = pd.read_excel(new_PATH, sheet_name=21)\n",
    "Tort_mean = pd.read_excel(new_PATH, sheet_name=22)\n",
    "Tort_std = pd.read_excel(new_PATH, sheet_name=23)\n",
    "\n",
    "#concat\n",
    "all_FA_mean = pd.concat([old_FA_mean, FA_mean], join='inner').iloc[:,1:6].values\n",
    "all_AD_mean = pd.concat([old_AD_mean, AD_mean], join='inner').iloc[:,1:6].values\n",
    "all_AK_mean = pd.concat([old_AK_mean, AK_mean], join='inner').iloc[:,1:6].values\n",
    "all_RK_mean = pd.concat([old_RD_mean, RD_mean], join='inner').iloc[:,1:6].values\n",
    "all_Tort_mean = pd.concat([old_Tort_mean, Tort_mean], join='inner').iloc[:,1:6].values\n",
    "all_RD_mean = pd.concat([old_RK_mean, RK_mean], join='inner').iloc[:,1:6].values\n",
    "all_MK_mean = pd.concat([old_MK_mean, MK_mean], join='inner').iloc[:,1:6].values\n",
    "all_Deperp_mean = pd.concat([old_Deperp_mean, Deperp_mean], join='inner').iloc[:,1:6].values\n",
    "all_Depar_mean = pd.concat([old_Depar_mean, Depar_mean], join='inner').iloc[:,1:6].values\n",
    "all_DA_mean = pd.concat([old_DA_mean, DA_mean], join='inner').iloc[:,1:6].values\n",
    "all_AWF_mean = pd.concat([old_AWF_mean, AWF_mean], join='inner').iloc[:,1:6].values\n",
    "all_MD_mean = pd.concat([old_MD_mean, MD_mean], join='inner').iloc[:,1:6].values\n",
    "\n",
    "all_FA_std = pd.concat([old_FA_std, FA_std], join='inner').iloc[:,1:6].values\n",
    "all_AD_std = pd.concat([old_AD_std, AD_std], join='inner').iloc[:,1:6].values\n",
    "all_AK_std = pd.concat([old_AK_std, AK_std], join='inner').iloc[:,1:6].values\n",
    "all_RK_std = pd.concat([old_RK_std, RK_std], join='inner').iloc[:,1:6].values\n",
    "all_Tort_std = pd.concat([old_Tort_std, Tort_std], join='inner').iloc[:,1:6].values\n",
    "all_RD_std = pd.concat([old_RD_std, RD_std], join='inner').iloc[:,1:6].values\n",
    "all_MK_std = pd.concat([old_MK_std, MK_std], join='inner').iloc[:,1:6].values\n",
    "all_Deperp_std = pd.concat([old_Deperp_std, Deperp_std], join='inner').iloc[:,1:6].values\n",
    "all_Depar_std = pd.concat([old_Depar_std, Depar_std], join='inner').iloc[:,1:6].values\n",
    "all_DA_std = pd.concat([old_DA_std, DA_std], join='inner').iloc[:,1:6].values\n",
    "all_AWF_std = pd.concat([old_AWF_std, AWF_std], join='inner').iloc[:,1:6].values\n",
    "all_MD_std = pd.concat([old_MD_std, MD_std], join='inner').iloc[:,1:6].values\n",
    "\n",
    "all_data = np.hstack((all_AD_mean, all_AD_std, all_AK_mean, all_AK_std, all_AWF_mean, all_AWF_std, all_DA_mean,\n",
    "                           all_DA_std, all_FA_mean, all_FA_std, all_Depar_mean, all_Depar_std, all_Deperp_mean,\n",
    "                           all_Deperp_std, all_RD_mean, all_RD_std, all_RK_mean, all_RK_std, all_MD_mean, all_MD_std,\n",
    "                           all_MK_mean, all_MK_std, all_Tort_mean, all_Tort_std))\n",
    "\n",
    "print(all_data.shape)\n",
    "\n",
    "data_fix_PATH = './data/stats_data_rep.p'\n",
    "pickle.dump(all_data, open(data_original_PATH, \"wb\"))"
   ]
  },
  {
   "cell_type": "code",
   "execution_count": 31,
   "metadata": {},
   "outputs": [
    {
     "name": "stdout",
     "output_type": "stream",
     "text": [
      "0.3618681318681319\n"
     ]
    }
   ],
   "source": [
    "Stat_Feature_PATH =  './data/stats_data.p'\n",
    "stat_feature = pickle.load(open(Stat_Feature_PATH, \"rb\"))\n",
    "# print('original gen data:\\n', stat_feature)\n",
    "\n",
    "Stat_newgen_PATH = './data/stats_data_original.p'\n",
    "stat_feature_newgen = pickle.load(open(Stat_newgen_PATH, \"rb\"))\n",
    "# print('newly gen data:\\n',stat_feature_newgen)\n",
    "\n",
    "# Not file system problem, old gen data and new gen data are exactly the same\n",
    "\n",
    "data_fix_PATH = './data/stats_data_rep.p'\n",
    "stat_feature_fix = pickle.load(open(data_fix_PATH, \"rb\"))\n",
    "# print('fixed data:\\n', stat_feature_fix)\n",
    "\n",
    "confusion = (stat_feature == stat_feature_fix).astype(np.float32)\n",
    "print(np.sum(confusion)/(confusion.shape[0]*confusion.shape[1]))"
   ]
  },
  {
   "cell_type": "code",
   "execution_count": null,
   "metadata": {},
   "outputs": [],
   "source": []
  }
 ],
 "metadata": {
  "kernelspec": {
   "display_name": "IVP",
   "language": "python",
   "name": "cs231"
  },
  "language_info": {
   "codemirror_mode": {
    "name": "ipython",
    "version": 3
   },
   "file_extension": ".py",
   "mimetype": "text/x-python",
   "name": "python",
   "nbconvert_exporter": "python",
   "pygments_lexer": "ipython3",
   "version": "3.7.2"
  }
 },
 "nbformat": 4,
 "nbformat_minor": 2
}
