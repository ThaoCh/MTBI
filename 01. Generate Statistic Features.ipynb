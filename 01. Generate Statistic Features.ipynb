{
 "cells": [
  {
   "cell_type": "code",
   "execution_count": 1,
   "metadata": {},
   "outputs": [],
   "source": [
    "###################### Importing Packages #########################################\n",
    "import os\n",
    "\n",
    "import numpy as np\n",
    "import pickle, random, time\n",
    "from sklearn import svm\n",
    "from itertools import chain, combinations\n",
    "from copy import deepcopy\n",
    "from sklearn.decomposition import PCA\n",
    "import pandas as pd\n",
    "import nibabel as nib\n",
    "\n",
    "from datautility import *\n",
    "\n",
    "from scipy.stats import kurtosis, moment, skew, entropy\n",
    "from tqdm import tqdm\n",
    "from scipy.io import savemat, loadmat\n",
    "\n",
    "%matplotlib inline\n",
    "%load_ext autoreload\n",
    "%autoreload 2"
   ]
  },
  {
   "cell_type": "markdown",
   "metadata": {},
   "source": [
    "## Read and Save prefrontal mask\n",
    "* compress nii to mat\n",
    "* separate left prefrontal and right prefrontal area"
   ]
  },
  {
   "cell_type": "code",
   "execution_count": null,
   "metadata": {},
   "outputs": [],
   "source": [
    "prefrontal_file = './data/masks/Bilateral_prefrontalWM.nii'\n",
    "prefrontal_array = ((nib.load(prefrontal_file)).get_fdata()).astype(np.float32)\n",
    "prefrontal_l = np.zeros(prefrontal_array.shape)\n",
    "prefrontal_r = np.zeros(prefrontal_array.shape)\n",
    "for i in np.arange (prefrontal_array.shape[0]):\n",
    "    if i > 91:\n",
    "        prefrontal_l[i] = prefrontal_array[i]\n",
    "    else:\n",
    "        prefrontal_r[i] = prefrontal_array[i]\n",
    "\n",
    "prefrontal_l_dict = {}\n",
    "prefrontal_r_dict = {}\n",
    "\n",
    "prefrontal_l_dict['vol'] = prefrontal_l\n",
    "prefrontal_r_dict['vol'] = prefrontal_r\n",
    "\n",
    "savemat('./data/masks/L_Pref.mat', prefrontal_l_dict, do_compression=True)\n",
    "savemat('./data/masks/R_Pref.mat', prefrontal_r_dict, do_compression=True)"
   ]
  },
  {
   "cell_type": "markdown",
   "metadata": {},
   "source": [
    "## Defining Global Variable\n",
    "* 12 channels of metrics to use: [ad, ak, awf, eas_De_par, eas_De_perp, eas_tort, FA, ias_Da, md, mk, rd, rk]\n",
    "* 5 region mask: [1_L_thal, 2_R_thal, CC_Body_mask, CC_Genu_mask, CC_Splenium_mask]\n",
    "* 67 positive index and 50 negative index in 117 new subjects \n",
    "* 27 positive index and 22 negative index in 49 old subjects"
   ]
  },
  {
   "cell_type": "code",
   "execution_count": 2,
   "metadata": {},
   "outputs": [],
   "source": [
    "###################### Importing Packages #########################################\n",
    "# metric = ['ad', 'ak', 'awf', 'eas_De_par', 'eas_De_perp', 'eas_tort', 'FA', 'ias_Da', 'md', 'mk', 'rd', 'rk']\n",
    "# 12 metrics in total\n",
    "\n",
    "metric = ['ak', 'awf', 'eas_De_par', 'eas_De_perp', 'FA', 'ias_Da', 'md', 'mk']\n",
    "# 8 metric to use\n",
    "\n",
    "mask_name = ['1_L_thal','2_R_thal','CC_Body_mask','CC_Genu_mask','CC_Splenium_mask', 'L_Pref', 'R_Pref']\n",
    "# 5 Regions in total\n",
    "\n",
    "positive_idx = np.arange(73) + 1\n",
    "positive_idx = np.delete(positive_idx, [8, 15, 16, 17, 29, 33])\n",
    "\n",
    "# should be 67 postive in total\n",
    "\n",
    "negative_idx = np.arange(53) + 1\n",
    "negative_idx = np.delete(negative_idx, [14, 15, 16])\n",
    "\n",
    "# should be 50 negative in total\n",
    "\n",
    "OLD_PATH = './data/old_65subj_stats JFR.xlsx'\n",
    "\n",
    "old_data = pd.read_excel(OLD_PATH, header=0, index_col=0, sheet_name=0)\n",
    "old_idx = list(old_data.index)\n",
    "\n",
    "old_index = np.arange(65)\n",
    "old_index = np.delete(old_index, [1, 4, 6, 8, 10, 12, 14, 16, 21, 23, 26, 29, 33, 35, 37, 43])\n",
    "\n",
    "# And 49 old subjects \n",
    "\n",
    "stats = [np.mean, np.std, skew, kurtosis, entropy] # mean, std, normalize 3rd moment, normalized 4th moment, entrophy \n",
    "stats_str = ['mean', 'std', 'skew', 'kurt', 'etrp'] # mean, std, normalize 3rd moment, normalized 4th moment, entrophy "
   ]
  },
  {
   "cell_type": "markdown",
   "metadata": {},
   "source": [
    "## Generating sample image and clown mask\n",
    "* using 5 region mask: [1_L_thal, 2_R_thal, CC_Body_mask, CC_Genu_mask, CC_Splenium_mask]"
   ]
  },
  {
   "cell_type": "code",
   "execution_count": 3,
   "metadata": {},
   "outputs": [],
   "source": [
    "mask = get_mask(mask_name)\n",
    "mask = (mask != 0).astype(np.float32)"
   ]
  },
  {
   "cell_type": "markdown",
   "metadata": {},
   "source": [
    "## Save the masks into a single nii file\n",
    "* Do not run other than 1st time !\n",
    "* 7 mask .nii for visualization"
   ]
  },
  {
   "cell_type": "code",
   "execution_count": null,
   "metadata": {},
   "outputs": [],
   "source": [
    "mask_one = np.zeros([182, 218, 182])\n",
    "\n",
    "for i, m in enumerate(mask):\n",
    "    mask_one += (i+1)*m \n",
    "\n",
    "data = get_image(1, metric, positive=True)\n",
    "\n",
    "savenii(mask_one, '7_mask')"
   ]
  },
  {
   "cell_type": "markdown",
   "metadata": {},
   "source": [
    "## Generating 67 positive subjects among 117 new subjects\n",
    "* each subject has a feature vector of shape (360,)"
   ]
  },
  {
   "cell_type": "code",
   "execution_count": 4,
   "metadata": {
    "scrolled": false
   },
   "outputs": [
    {
     "name": "stderr",
     "output_type": "stream",
     "text": [
      "100%|██████████████████████████████████████████████████████████████████████████████████| 67/67 [04:49<00:00,  4.40s/it]\n"
     ]
    },
    {
     "name": "stdout",
     "output_type": "stream",
     "text": [
      "loading 67 positive subjects\n"
     ]
    }
   ],
   "source": [
    "# Generating positive data\n",
    "\n",
    "data_positive = []\n",
    "key_positive = []\n",
    "\n",
    "for p in tqdm(positive_idx):\n",
    "    \n",
    "    data = get_image(p, metric, positive=True)\n",
    "    temp = np.zeros([len(metric), len(mask), len(stats)])\n",
    "\n",
    "    for i, m in enumerate(data): # for metric in data\n",
    "        for j, k in enumerate(mask): # for mask in mask\n",
    "            mask_data = (m*k).reshape(-1)\n",
    "            mask_data = mask_data[mask_data != 0]\n",
    "            for t, s in enumerate(stats):\n",
    "                temp[i,j,t] = s(mask_data)\n",
    "                \n",
    "    temp = temp.reshape(-1) # a C style flattening, metric*mask*stats\n",
    "    data_positive.append(temp)\n",
    "    \n",
    "    key = 'TBI-' + '{:03}'.format(p)\n",
    "    key_positive.append(key)\n",
    "    \n",
    "print('loading {} positive subjects'.format(len(data_positive)))"
   ]
  },
  {
   "cell_type": "markdown",
   "metadata": {},
   "source": [
    "## Generating 50 positive subjects among 117 new subjects\n",
    "* each subject has a feature vector of shape (360,)"
   ]
  },
  {
   "cell_type": "code",
   "execution_count": 5,
   "metadata": {},
   "outputs": [
    {
     "name": "stderr",
     "output_type": "stream",
     "text": [
      "100%|██████████████████████████████████████████████████████████████████████████████████| 50/50 [03:55<00:00,  4.60s/it]\n"
     ]
    },
    {
     "name": "stdout",
     "output_type": "stream",
     "text": [
      "loading 50 negative subjects\n"
     ]
    }
   ],
   "source": [
    "# Generating negative data\n",
    "\n",
    "data_negative = []\n",
    "key_negative = []\n",
    "\n",
    "for n in tqdm(negative_idx):\n",
    "\n",
    "    data = get_image(n, metric, positive=False)\n",
    "    temp = np.zeros([len(metric), len(mask), len(stats)])\n",
    "\n",
    "    for i, m in enumerate(data): # for metric in data\n",
    "        for j, k in enumerate(mask): # for mask in mask\n",
    "            mask_data = (m*k).reshape(-1)\n",
    "            mask_data = mask_data[mask_data != 0]\n",
    "            for t, s in enumerate(stats):\n",
    "                temp[i,j,t] = s(mask_data)\n",
    "                \n",
    "    temp = temp.reshape(-1) # a C style flattening, metric*mask*stats\n",
    "    data_negative.append(temp)\n",
    "    key = 'TBN-' + '{:03}'.format(n)\n",
    "    key_negative.append(key)\n",
    "    \n",
    "print('loading {} negative subjects'.format(len(data_negative)))"
   ]
  },
  {
   "cell_type": "markdown",
   "metadata": {},
   "source": [
    "## Generating 49 subjects among 67 old images\n",
    "* Other 18 subjects are take MRI second time, ignore them for this dataset"
   ]
  },
  {
   "cell_type": "code",
   "execution_count": 6,
   "metadata": {},
   "outputs": [
    {
     "name": "stderr",
     "output_type": "stream",
     "text": [
      "100%|██████████████████████████████████████████████████████████████████████████████████| 49/49 [03:59<00:00,  4.67s/it]\n"
     ]
    },
    {
     "name": "stdout",
     "output_type": "stream",
     "text": [
      "loading 49 old subjects\n"
     ]
    }
   ],
   "source": [
    "data_old = []\n",
    "key_old = []\n",
    "\n",
    "for o, key in enumerate(tqdm(old_idx)):\n",
    "    data = get_old_image(old_index[o], metric)\n",
    "    temp = np.zeros([len(metric), len(mask), len(stats)])\n",
    "\n",
    "    for i, m in enumerate(data): # for metric in data\n",
    "        for j, k in enumerate(mask): # for mask in mask\n",
    "            mask_data = (m*k).reshape(-1)\n",
    "            mask_data = mask_data[mask_data != 0]\n",
    "\n",
    "            for t, s in enumerate(stats):\n",
    "                temp[i,j,t] = s(mask_data)\n",
    "    temp = temp.reshape(-1) # a C style flattening, metric*mask*stats\n",
    "    data_old.append(temp)\n",
    "    key_old.append(key)\n",
    "    \n",
    "print('loading {} old subjects'.format(len(data_old)))"
   ]
  },
  {
   "cell_type": "markdown",
   "metadata": {},
   "source": [
    "## Binding data\n",
    "* Sequence: old subjects -> positive new subjects -> negative new subjects\n",
    "* Generate column names as statistic * mask * metric"
   ]
  },
  {
   "cell_type": "code",
   "execution_count": 7,
   "metadata": {},
   "outputs": [
    {
     "name": "stdout",
     "output_type": "stream",
     "text": [
      "166 (280,)\n"
     ]
    }
   ],
   "source": [
    "data_all = []\n",
    "key_all = []\n",
    "\n",
    "data_all = data_old + data_positive + data_negative\n",
    "key_all = key_old + key_positive + key_negative\n",
    "\n",
    "print(len(data_all), data_all[0].shape)"
   ]
  },
  {
   "cell_type": "code",
   "execution_count": 8,
   "metadata": {},
   "outputs": [],
   "source": [
    "import itertools\n",
    "\n",
    "pre_column = ['-'.join(i) for i in list(itertools.product(mask_name, stats_str))]\n",
    "index_column = ['-'.join(i) for i in list(itertools.product(metric, pre_column))] # metric"
   ]
  },
  {
   "cell_type": "code",
   "execution_count": 9,
   "metadata": {},
   "outputs": [
    {
     "name": "stdout",
     "output_type": "stream",
     "text": [
      "Index(['HT102', 'HT103', 'HT105', 'HT106', 'HT107', 'HT109', 'HT111', 'HT112',\n",
      "       'HT113', 'HT114',\n",
      "       ...\n",
      "       'TBN-044', 'TBN-045', 'TBN-046', 'TBN-047', 'TBN-048', 'TBN-049',\n",
      "       'TBN-050', 'TBN-051', 'TBN-052', 'TBN-053'],\n",
      "      dtype='object', length=166) 166 280\n"
     ]
    }
   ],
   "source": [
    "data_dict = pd.DataFrame(data=data_all, index=key_all, columns=index_column)\n",
    "print(data_dict.index, len(key_all), len(index_column))\n",
    "####################### Save dataframe to Excel #############################################\n",
    "\n",
    "SAVE_PATH = './data/stats_data_gather.xlsx'\n",
    "if not os.path.isfile(SAVE_PATH):\n",
    "    data_dict.to_excel(SAVE_PATH)\n",
    "    pass\n",
    "else:\n",
    "    print('file {} exists'.format(SAVE_PATH))"
   ]
  },
  {
   "cell_type": "code",
   "execution_count": 10,
   "metadata": {},
   "outputs": [
    {
     "name": "stdout",
     "output_type": "stream",
     "text": [
      "Index(['HT102', 'HT103', 'HT104', 'HT105', 'HT106', 'HT107', 'HT108', 'HT109',\n",
      "       'HT110', 'HT111',\n",
      "       ...\n",
      "       'TBN-043', 'TBN-044', 'TBN-045', 'TBN-046', 'TBN-047', 'TBN-049',\n",
      "       'TBN-050', 'TBN-051', 'TBN-052', 'TBN-053'],\n",
      "      dtype='object', name='Subject', length=172) Index(['Unnamed: 0', 'T1 Letter Number', 'T2 Letter Number',\n",
      "       'T3 Letter Number', 'Digit Span Forward T1', 'Digit Span Forward T2',\n",
      "       'Digit Span Forward T3', 'Digit Span Backward T1',\n",
      "       'Digit Span Backward T2', 'Digit Span Backward T3', 'Trailmaking B T1',\n",
      "       'Trailmaking B T2', 'Trailmaking B T3', 'Trailmaking A T1',\n",
      "       'Trailmaking A T2', 'Trailmaking A T3', 'CVLT T1', 'CVLT T2', 'CVLT T3',\n",
      "       'RCFT Immediate T1', 'RCFT Immediate T2', 'RCFT Immediate T3',\n",
      "       'RCFT Delayed T1', 'RCFT Delayed T2', 'RCFT Delayed T3', 'DKEFS T1',\n",
      "       'DKEFS T2', 'DKEFS T3', 'Stroop T1', 'Stroop T2', 'Stroop T3',\n",
      "       'SDMT T1', 'SDMT T2', 'SDMT T3'],\n",
      "      dtype='object')\n",
      "Index(['HT102', 'HT103', 'HT105', 'HT106', 'HT107', 'HT109', 'HT111', 'HT112',\n",
      "       'HT113', 'HT114',\n",
      "       ...\n",
      "       'TBN-044', 'TBN-045', 'TBN-046', 'TBN-047', 'TBN-048', 'TBN-049',\n",
      "       'TBN-050', 'TBN-051', 'TBN-052', 'TBN-053'],\n",
      "      dtype='object', length=166) Index(['ak-1_L_thal-mean', 'ak-1_L_thal-std', 'ak-1_L_thal-skew',\n",
      "       'ak-1_L_thal-kurt', 'ak-1_L_thal-etrp', 'ak-2_R_thal-mean',\n",
      "       'ak-2_R_thal-std', 'ak-2_R_thal-skew', 'ak-2_R_thal-kurt',\n",
      "       'ak-2_R_thal-etrp',\n",
      "       ...\n",
      "       'mk-L_Pref-mean', 'mk-L_Pref-std', 'mk-L_Pref-skew', 'mk-L_Pref-kurt',\n",
      "       'mk-L_Pref-etrp', 'mk-R_Pref-mean', 'mk-R_Pref-std', 'mk-R_Pref-skew',\n",
      "       'mk-R_Pref-kurt', 'mk-R_Pref-etrp'],\n",
      "      dtype='object', length=280)\n"
     ]
    }
   ],
   "source": [
    "LABEL_PATH = './data/merged_np.xlsx'\n",
    "label_data = pd.read_excel(LABEL_PATH, index_col=1, sheet_name=0)\n",
    "print(label_data.index, label_data.columns)\n",
    "\n",
    "DATA_PATH = './data/stats_data_gather.xlsx'\n",
    "stats_data = pd.read_excel(DATA_PATH, index_col=0, sheet_name=0)\n",
    "print(stats_data.index, stats_data.columns)"
   ]
  },
  {
   "cell_type": "code",
   "execution_count": 11,
   "metadata": {},
   "outputs": [
    {
     "name": "stdout",
     "output_type": "stream",
     "text": [
      "         ak-1_L_thal-mean  ak-1_L_thal-std  ak-1_L_thal-skew  \\\n",
      "HT102            0.605042         0.128671         -0.345832   \n",
      "HT103            0.649086         0.133304         -0.238727   \n",
      "HT105            0.661849         0.170823         -0.002355   \n",
      "HT106            0.667329         0.128948         -0.183180   \n",
      "HT107            0.693921         0.155623          0.443730   \n",
      "HT109            0.664475         0.132775         -0.378491   \n",
      "HT111            0.595104         0.156826         -0.451598   \n",
      "HT112            0.667250         0.145615         -0.094611   \n",
      "HT113            0.653951         0.155048          0.010153   \n",
      "HT114            0.681961         0.168137         -0.194994   \n",
      "HT115            0.625602         0.172083         -0.129125   \n",
      "HT116            0.642646         0.159711         -0.107693   \n",
      "HT117            0.618530         0.144971          0.263937   \n",
      "HT118            0.630059         0.141668         -0.006345   \n",
      "HT119            0.654763         0.176926          0.359422   \n",
      "HT121            0.607331         0.116862         -0.076797   \n",
      "HT122            0.623710         0.112953          0.326051   \n",
      "HT123            0.641194         0.139537         -0.446946   \n",
      "HT124            0.604621         0.150486         -0.018170   \n",
      "HT125            0.648614         0.151159         -0.201526   \n",
      "HT126            0.663416         0.115893         -0.213566   \n",
      "HT127            0.611562         0.142855          0.282650   \n",
      "HT128            0.616555         0.133747         -0.315576   \n",
      "HT129            0.628556         0.142731         -0.042035   \n",
      "HT130            0.602605         0.185007          0.116284   \n",
      "HT131            0.651607         0.125935          0.355874   \n",
      "HT132            0.593881         0.133757          0.129290   \n",
      "N101             0.647333         0.131555         -0.107768   \n",
      "N103             0.699257         0.108196         -0.241031   \n",
      "N105             0.625616         0.121044          0.265371   \n",
      "...                   ...              ...               ...   \n",
      "TBN-023          0.738356         0.151673         -0.237631   \n",
      "TBN-024          0.632964         0.123455         -0.474153   \n",
      "TBN-025          0.740994         0.138161         -0.444200   \n",
      "TBN-026          0.714346         0.190143         -0.265958   \n",
      "TBN-027          0.686615         0.168812          0.089259   \n",
      "TBN-028          0.657921         0.199509          0.067098   \n",
      "TBN-029          0.679344         0.139728          0.141809   \n",
      "TBN-030          0.659628         0.158486          0.001745   \n",
      "TBN-031          0.703453         0.182162         -0.155301   \n",
      "TBN-032          0.781463         0.214509         -0.094424   \n",
      "TBN-033          0.678056         0.199582          0.090344   \n",
      "TBN-034          0.751793         0.207818          0.003289   \n",
      "TBN-035          0.731334         0.192933          0.087953   \n",
      "TBN-036          0.746005         0.175953         -0.154693   \n",
      "TBN-037          0.677785         0.169397         -0.079110   \n",
      "TBN-038          0.734771         0.147316         -0.071744   \n",
      "TBN-039          0.591928         0.162422          0.462645   \n",
      "TBN-040          0.758256         0.168982         -0.053948   \n",
      "TBN-041          0.715151         0.195672          0.158818   \n",
      "TBN-042          0.739888         0.197213          0.012183   \n",
      "TBN-043          0.853388         0.221635          0.247826   \n",
      "TBN-044          0.585930         0.179375          0.445415   \n",
      "TBN-045          0.657654         0.175311          0.067892   \n",
      "TBN-046          0.705746         0.183874          0.118180   \n",
      "TBN-047          0.748501         0.208544          0.161804   \n",
      "TBN-049          0.626487         0.162712          0.074987   \n",
      "TBN-050          0.721951         0.185753          0.170404   \n",
      "TBN-051          0.456989         0.136316          0.556041   \n",
      "TBN-052          0.710976         0.175089          0.206396   \n",
      "TBN-053          0.666556         0.201459          0.021289   \n",
      "\n",
      "         ak-1_L_thal-kurt  ak-1_L_thal-etrp  ak-2_R_thal-mean  \\\n",
      "HT102            0.060403          8.750292          0.606492   \n",
      "HT103           -0.237111          8.752230          0.700264   \n",
      "HT105           -0.595842          8.739804          0.653673   \n",
      "HT106           -0.034880          8.754848          0.657183   \n",
      "HT107            0.196212          8.749220          0.684795   \n",
      "HT109            0.762776          8.752962          0.644325   \n",
      "HT111            0.119803          8.736161          0.633300   \n",
      "HT112           -0.262026          8.749586          0.595198   \n",
      "HT113           -0.465288          8.745306          0.633974   \n",
      "HT114            0.059338          8.742023          0.657136   \n",
      "HT115           -0.544453          8.734418          0.626613   \n",
      "HT116           -0.161909          8.741910          0.680234   \n",
      "HT117           -0.200063          8.746546          0.661234   \n",
      "HT118           -0.371608          8.748241          0.683500   \n",
      "HT119           -0.525876          8.737803          0.666661   \n",
      "HT121            0.586101          8.755033          0.637213   \n",
      "HT122            0.056309          8.757807          0.651706   \n",
      "HT123            0.102013          8.748906          0.645222   \n",
      "HT124           -0.244856          8.742146          0.524647   \n",
      "HT125           -0.453131          8.745805          0.600861   \n",
      "HT126           -0.321367          8.758479          0.690644   \n",
      "HT127           -0.216070          8.746767          0.621948   \n",
      "HT128            0.548215          8.749256          0.665235   \n",
      "HT129            0.012668          8.747509          0.627529   \n",
      "HT130           -0.357325          8.725162          0.647608   \n",
      "HT131           -0.320885          8.755611          0.654689   \n",
      "HT132            0.036763          8.748323          0.683597   \n",
      "N101            -0.346908          8.752921          0.681685   \n",
      "N103            -0.002444          8.761871          0.702035   \n",
      "N105             0.015242          8.755407          0.614083   \n",
      "...                   ...               ...               ...   \n",
      "TBN-023         -0.156954          8.752200          0.769231   \n",
      "TBN-024          0.097550          8.754080          0.714319   \n",
      "TBN-025          0.369451          8.755852          0.720602   \n",
      "TBN-026         -0.401348          8.736480          0.721740   \n",
      "TBN-027         -0.252295          8.743261          0.695441   \n",
      "TBN-028         -0.576374          8.726470          0.687415   \n",
      "TBN-029         -0.202853          8.752767          0.615814   \n",
      "TBN-030         -0.100468          8.744423          0.670349   \n",
      "TBN-031         -0.228065          8.738913          0.750503   \n",
      "TBN-032         -0.183378          8.734498          0.772732   \n",
      "TBN-033         -0.716270          8.729710          0.704099   \n",
      "TBN-034         -0.376474          8.734599          0.757902   \n",
      "TBN-035         -0.512051          8.738542          0.704920   \n",
      "TBN-036         -0.408047          8.745155          0.727103   \n",
      "TBN-037         -0.184037          8.741652          0.619603   \n",
      "TBN-038         -0.160331          8.753533          0.711630   \n",
      "TBN-039         -0.294381          8.736912          0.611615   \n",
      "TBN-040         -0.400220          8.748615          0.723517   \n",
      "TBN-041         -0.200856          8.735836          0.718772   \n",
      "TBN-042         -0.365019          8.737412          0.744516   \n",
      "TBN-043          0.419186          8.739824          0.783614   \n",
      "TBN-044         -0.404513          8.727751          0.651136   \n",
      "TBN-045         -0.179858          8.737469          0.684191   \n",
      "TBN-046         -0.349819          8.739513          0.738289   \n",
      "TBN-047         -0.541670          8.734643          0.750792   \n",
      "TBN-049         -0.367425          8.739517          0.653367   \n",
      "TBN-050         -0.263005          8.740491          0.730575   \n",
      "TBN-051         -0.330672          8.730574          0.556800   \n",
      "TBN-052         -0.090445          8.743421          0.694161   \n",
      "TBN-053         -0.770793          8.726873          0.642910   \n",
      "\n",
      "         ak-2_R_thal-std  ak-2_R_thal-skew  ak-2_R_thal-kurt  \\\n",
      "HT102           0.120894         -0.525165          0.772106   \n",
      "HT103           0.114282         -0.033532         -0.036616   \n",
      "HT105           0.146263         -0.039633          0.034464   \n",
      "HT106           0.140268         -0.318437          0.092296   \n",
      "HT107           0.139449         -0.211015         -0.076449   \n",
      "HT109           0.120012          0.319104          0.093625   \n",
      "HT111           0.136008         -0.328531          0.294287   \n",
      "HT112           0.137055         -0.519195          0.334731   \n",
      "HT113           0.147082         -0.073760         -0.600870   \n",
      "HT114           0.166364         -0.323771          0.077254   \n",
      "HT115           0.153104         -0.138694         -0.098436   \n",
      "HT116           0.164955          0.193170         -0.414159   \n",
      "HT117           0.132627          0.048908          0.021609   \n",
      "HT118           0.147082         -0.127732         -0.469663   \n",
      "HT119           0.172481          0.260073         -0.239007   \n",
      "HT121           0.112018         -0.383871          0.203211   \n",
      "HT122           0.148297          0.248728         -0.246542   \n",
      "HT123           0.127904          0.026648         -0.387081   \n",
      "HT124           0.151510         -0.206418         -0.071778   \n",
      "HT125           0.121552         -0.210881          0.112640   \n",
      "HT126           0.109656         -0.231877          1.350378   \n",
      "HT127           0.138690         -0.083439          0.002268   \n",
      "HT128           0.122628          0.249067          0.972606   \n",
      "HT129           0.140813          0.033770          0.163839   \n",
      "HT130           0.135007          0.303740         -0.188714   \n",
      "HT131           0.145076         -0.101325          0.174352   \n",
      "HT132           0.135676         -0.001226         -0.471575   \n",
      "N101            0.173956         -0.372413         -0.153671   \n",
      "N103            0.145502         -0.350669          0.953046   \n",
      "N105            0.127715         -0.141132         -0.034825   \n",
      "...                  ...               ...               ...   \n",
      "TBN-023         0.157603         -0.063233         -0.210185   \n",
      "TBN-024         0.144299         -0.194510          0.122482   \n",
      "TBN-025         0.144295         -0.440382          0.379405   \n",
      "TBN-026         0.197979         -0.104452         -0.330791   \n",
      "TBN-027         0.146783         -0.267784          0.039150   \n",
      "TBN-028         0.178313         -0.121594         -0.143266   \n",
      "TBN-029         0.162837          0.082127         -0.372361   \n",
      "TBN-030         0.158108         -0.110870         -0.103984   \n",
      "TBN-031         0.163287          0.027183          0.395207   \n",
      "TBN-032         0.168629         -0.293203          0.225029   \n",
      "TBN-033         0.181030          0.063492         -0.531606   \n",
      "TBN-034         0.189551          0.255412          0.113518   \n",
      "TBN-035         0.179135         -0.056561         -0.203956   \n",
      "TBN-036         0.187001          0.208487         -0.049091   \n",
      "TBN-037         0.171731         -0.036999         -0.260718   \n",
      "TBN-038         0.156745         -0.281988          0.556594   \n",
      "TBN-039         0.154467         -0.002758          0.229748   \n",
      "TBN-040         0.200384         -0.147701         -0.300019   \n",
      "TBN-041         0.175817         -0.039920          0.094097   \n",
      "TBN-042         0.201858         -0.467712          0.227755   \n",
      "TBN-043         0.193451         -0.022443          0.120092   \n",
      "TBN-044         0.202992          0.312654         -0.479312   \n",
      "TBN-045         0.181556         -0.024087         -0.293025   \n",
      "TBN-046         0.187222          0.008280          0.160389   \n",
      "TBN-047         0.191174         -0.005059         -0.136072   \n",
      "TBN-049         0.177160          0.139850         -0.380456   \n",
      "TBN-050         0.190885         -0.064394         -0.579849   \n",
      "TBN-051         0.185252          0.686878          0.218769   \n",
      "TBN-052         0.158938          0.081549         -0.087527   \n",
      "TBN-053         0.193286         -0.175112         -0.639555   \n",
      "\n",
      "         ak-2_R_thal-etrp  ...  RCFT Delayed T3  DKEFS T1  DKEFS T2  DKEFS T3  \\\n",
      "HT102            8.735765  ...             0.90     0.000       NaN      0.00   \n",
      "HT103            8.743465  ...              NaN    -0.300       NaN       NaN   \n",
      "HT105            8.731157  ...            -1.30     1.600       NaN      2.60   \n",
      "HT106            8.733024  ...             0.10    -0.700       NaN      1.00   \n",
      "HT107            8.735454  ...            -0.10     1.000       NaN      1.30   \n",
      "HT109            8.739690  ...            -0.10    -0.300       NaN     -1.00   \n",
      "HT111            8.732603  ...            -0.03    -2.000       NaN     -1.70   \n",
      "HT112            8.728312  ...             1.80     0.000       NaN      0.70   \n",
      "HT113            8.729259  ...             1.20     0.000       NaN      1.30   \n",
      "HT114            8.722633  ...              NaN     0.700       NaN       NaN   \n",
      "HT115            8.725702  ...              NaN     0.700       NaN       NaN   \n",
      "HT116            8.727230  ...              NaN    -2.400       NaN       NaN   \n",
      "HT117            8.736494  ...            -0.20    -1.000       NaN     -0.30   \n",
      "HT118            8.733096  ...             1.60     1.000       NaN      0.70   \n",
      "HT119            8.723301  ...              NaN    -2.000       NaN       NaN   \n",
      "HT121            8.740885  ...             2.10    -1.300       NaN     -1.30   \n",
      "HT122            8.730919  ...              NaN    -2.400       NaN       NaN   \n",
      "HT123            8.737020  ...             0.20    -0.300       NaN     -0.70   \n",
      "HT124            8.712246  ...              NaN     0.700       NaN       NaN   \n",
      "HT125            8.735723  ...              NaN    -0.700       NaN       NaN   \n",
      "HT126            8.743954  ...            -2.70    -2.000       NaN     -2.00   \n",
      "HT127            8.731258  ...             0.90    -0.700       NaN     -0.70   \n",
      "HT128            8.739866  ...            -0.50     0.000       NaN     -0.70   \n",
      "HT129            8.731113  ...            -0.57     1.000       NaN      2.70   \n",
      "HT130            8.735285  ...              NaN     0.300       NaN       NaN   \n",
      "HT131            8.731480  ...            -0.44     0.000       NaN     -1.33   \n",
      "HT132            8.736946  ...            -0.26    -2.400       NaN      0.70   \n",
      "N101             8.721972  ...            -0.20     1.300       NaN      2.00   \n",
      "N103             8.734196  ...              NaN     1.300       NaN       NaN   \n",
      "N105             8.734613  ...            -0.80     1.000       NaN      1.00   \n",
      "...                   ...  ...              ...       ...       ...       ...   \n",
      "TBN-023          8.735463  ...             1.80    -0.411     -0.98      0.28   \n",
      "TBN-024          8.735785  ...            -0.10     2.600      1.23      1.88   \n",
      "TBN-025          8.735775  ...             0.60    -2.330       NaN     -1.42   \n",
      "TBN-026          8.717502  ...              NaN     1.890       NaN       NaN   \n",
      "TBN-027          8.733675  ...             0.40     1.410      1.55      1.41   \n",
      "TBN-028          8.721675  ...            -3.10     2.330      0.50      0.44   \n",
      "TBN-029          8.721098  ...            -0.30     0.500      1.04      1.65   \n",
      "TBN-030          8.728040  ...              NaN       NaN       NaN       NaN   \n",
      "TBN-031          8.732647  ...              NaN     2.330       NaN       NaN   \n",
      "TBN-032          8.731878  ...              NaN    -1.130       NaN       NaN   \n",
      "TBN-033          8.723135  ...              NaN    -0.520       NaN       NaN   \n",
      "TBN-034          8.725355  ...              NaN    -0.990       NaN       NaN   \n",
      "TBN-035          8.723433  ...              NaN    -0.080       NaN       NaN   \n",
      "TBN-036          8.723399  ...              NaN     0.280       NaN       NaN   \n",
      "TBN-037          8.716885  ...              NaN     1.550       NaN       NaN   \n",
      "TBN-038          8.731340  ...              NaN     0.280       NaN       NaN   \n",
      "TBN-039          8.723682  ...            -1.50    -0.310       NaN     -1.80   \n",
      "TBN-040          8.716455  ...              NaN     0.440       NaN       NaN   \n",
      "TBN-041          8.725835  ...            -0.80     0.280     -1.28      0.03   \n",
      "TBN-042          8.716532  ...              NaN     2.330      2.30       NaN   \n",
      "TBN-043          8.725344  ...              NaN     1.650      2.06       NaN   \n",
      "TBN-044          8.708082  ...              NaN    -1.340     -0.31       NaN   \n",
      "TBN-045          8.720400  ...              NaN     0.700       NaN       NaN   \n",
      "TBN-046          8.723564  ...              NaN    -1.130     -1.34       NaN   \n",
      "TBN-047          8.723396  ...              NaN       NaN       NaN       NaN   \n",
      "TBN-049          8.719408  ...              NaN     2.060       NaN       NaN   \n",
      "TBN-050          8.721610  ...              NaN    -0.610       NaN       NaN   \n",
      "TBN-051          8.703084  ...              NaN    -2.050       NaN       NaN   \n",
      "TBN-052          8.730217  ...              NaN     0.770       NaN       NaN   \n",
      "TBN-053          8.708835  ...              NaN     0.280       NaN       NaN   \n",
      "\n",
      "         Stroop T1  Stroop T2  Stroop T3  SDMT T1  SDMT T2  SDMT T3  \n",
      "HT102         0.69        NaN       0.59     1.09      NaN     0.20  \n",
      "HT103         0.20        NaN        NaN     1.51      NaN      NaN  \n",
      "HT105         0.97        NaN       0.97    -0.62      NaN     0.62  \n",
      "HT106         0.59        NaN       0.01    -0.04      NaN     1.50  \n",
      "HT107         0.69        NaN       0.69    -1.07      NaN     0.14  \n",
      "HT109         0.10        NaN       0.20    -0.28      NaN     0.83  \n",
      "HT111        -1.16        NaN      -0.08    -2.30      NaN    -2.07  \n",
      "HT112         0.59        NaN       0.59     1.05      NaN     0.42  \n",
      "HT113         0.59        NaN       0.49    -0.37      NaN    -0.73  \n",
      "HT114         0.49        NaN        NaN    -1.17      NaN      NaN  \n",
      "HT115         0.40        NaN        NaN     0.25      NaN      NaN  \n",
      "HT116        -0.92        NaN        NaN    -2.11      NaN      NaN  \n",
      "HT117        -0.18        NaN       0.59    -0.28      NaN     0.43  \n",
      "HT118         0.59        NaN       0.40    -0.07      NaN    -0.40  \n",
      "HT119        -0.18        NaN        NaN     0.91      NaN      NaN  \n",
      "HT121         0.49        NaN       0.59     0.03      NaN     0.80  \n",
      "HT122        -4.07        NaN        NaN    -3.21      NaN      NaN  \n",
      "HT123        -1.75        NaN      -0.57    -1.07      NaN    -1.84  \n",
      "HT124        -0.08        NaN        NaN     0.91      NaN      NaN  \n",
      "HT125        -3.70        NaN        NaN    -2.09      NaN      NaN  \n",
      "HT126        -0.77        NaN      -0.18    -1.71      NaN    -2.25  \n",
      "HT127        -1.75        NaN      -0.67    -0.62      NaN    -1.47  \n",
      "HT128         0.10        NaN       0.20     0.31      NaN     0.69  \n",
      "HT129         0.20        NaN       0.69    -0.31      NaN    -0.12  \n",
      "HT130        -2.14        NaN        NaN    -2.50      NaN      NaN  \n",
      "HT131        -1.16        NaN      -1.95    -0.62      NaN     0.85  \n",
      "HT132        -0.57        NaN       0.68    -1.93      NaN     0.03  \n",
      "N101          0.49        NaN       0.59     0.68      NaN     0.80  \n",
      "N103          0.59        NaN        NaN     0.79      NaN      NaN  \n",
      "N105          0.69        NaN       0.97    -0.15      NaN    -0.97  \n",
      "...            ...        ...        ...      ...      ...      ...  \n",
      "TBN-023       0.00       0.00       0.00     0.33     0.00     0.67  \n",
      "TBN-024       1.00       1.00       1.33     0.67     1.00     1.67  \n",
      "TBN-025       1.33        NaN       1.00     1.00      NaN     1.67  \n",
      "TBN-026       1.33        NaN        NaN     2.00      NaN      NaN  \n",
      "TBN-027       1.00       1.33       1.33     1.00     1.00     1.00  \n",
      "TBN-028       0.67       0.67       1.00     0.67     1.00     1.67  \n",
      "TBN-029       0.67       0.67       1.00    -0.33     0.00     0.00  \n",
      "TBN-030       0.33        NaN        NaN     0.67      NaN      NaN  \n",
      "TBN-031       1.00        NaN        NaN     1.33      NaN      NaN  \n",
      "TBN-032       0.33        NaN        NaN    -1.00      NaN      NaN  \n",
      "TBN-033       0.00        NaN        NaN     0.67      NaN      NaN  \n",
      "TBN-034       0.00        NaN        NaN    -0.67      NaN      NaN  \n",
      "TBN-035       1.67        NaN        NaN     0.33      NaN      NaN  \n",
      "TBN-036       1.00        NaN        NaN     0.33      NaN      NaN  \n",
      "TBN-037       1.33        NaN        NaN    -1.00      NaN      NaN  \n",
      "TBN-038       1.00        NaN        NaN     2.33      NaN      NaN  \n",
      "TBN-039       1.33        NaN       1.67     0.00      NaN     0.33  \n",
      "TBN-040       0.33        NaN        NaN     1.00      NaN      NaN  \n",
      "TBN-041      -0.33       0.00       1.00     1.00     1.00     1.33  \n",
      "TBN-042       0.33       1.00        NaN     1.00     1.00      NaN  \n",
      "TBN-043       0.33       0.33        NaN     0.67     0.33      NaN  \n",
      "TBN-044       1.00       0.00        NaN     0.67     0.33      NaN  \n",
      "TBN-045       1.00        NaN        NaN    -0.33      NaN      NaN  \n",
      "TBN-046       0.33       1.00        NaN     0.67     0.67      NaN  \n",
      "TBN-047      -0.33       0.67        NaN    -0.33    -0.33      NaN  \n",
      "TBN-049       0.67        NaN        NaN     0.67      NaN      NaN  \n",
      "TBN-050       0.33        NaN        NaN     0.33      NaN      NaN  \n",
      "TBN-051        NaN        NaN        NaN      NaN      NaN      NaN  \n",
      "TBN-052      -0.33        NaN        NaN     0.00      NaN      NaN  \n",
      "TBN-053      -1.00        NaN        NaN    -0.33      NaN      NaN  \n",
      "\n"
     ]
    },
    {
     "name": "stdout",
     "output_type": "stream",
     "text": [
      "[154 rows x 314 columns]\n"
     ]
    }
   ],
   "source": [
    "all_data = pd.concat([data_dict, label_data], axis=1, join='inner')\n",
    "print(all_data)"
   ]
  },
  {
   "cell_type": "code",
   "execution_count": 12,
   "metadata": {},
   "outputs": [
    {
     "name": "stdout",
     "output_type": "stream",
     "text": [
      "Index(['ak-1_L_thal-mean', 'ak-1_L_thal-std', 'ak-1_L_thal-skew',\n",
      "       'ak-1_L_thal-kurt', 'ak-1_L_thal-etrp', 'ak-2_R_thal-mean',\n",
      "       'ak-2_R_thal-std', 'ak-2_R_thal-skew', 'ak-2_R_thal-kurt',\n",
      "       'ak-2_R_thal-etrp',\n",
      "       ...\n",
      "       'mk-L_Pref-mean', 'mk-L_Pref-std', 'mk-L_Pref-skew', 'mk-L_Pref-kurt',\n",
      "       'mk-L_Pref-etrp', 'mk-R_Pref-mean', 'mk-R_Pref-std', 'mk-R_Pref-skew',\n",
      "       'mk-R_Pref-kurt', 'mk-R_Pref-etrp'],\n",
      "      dtype='object', length=280) Index(['HT102', 'HT103', 'HT105', 'HT106', 'HT107', 'HT109', 'HT111', 'HT112',\n",
      "       'HT113', 'HT114',\n",
      "       ...\n",
      "       'TBN-043', 'TBN-044', 'TBN-045', 'TBN-046', 'TBN-047', 'TBN-049',\n",
      "       'TBN-050', 'TBN-051', 'TBN-052', 'TBN-053'],\n",
      "      dtype='object', length=154)\n",
      "Index(['Unnamed: 0', 'T1 Letter Number', 'T2 Letter Number',\n",
      "       'T3 Letter Number', 'Digit Span Forward T1', 'Digit Span Forward T2',\n",
      "       'Digit Span Forward T3', 'Digit Span Backward T1',\n",
      "       'Digit Span Backward T2', 'Digit Span Backward T3', 'Trailmaking B T1',\n",
      "       'Trailmaking B T2', 'Trailmaking B T3', 'Trailmaking A T1',\n",
      "       'Trailmaking A T2', 'Trailmaking A T3', 'CVLT T1', 'CVLT T2', 'CVLT T3',\n",
      "       'RCFT Immediate T1', 'RCFT Immediate T2', 'RCFT Immediate T3',\n",
      "       'RCFT Delayed T1', 'RCFT Delayed T2', 'RCFT Delayed T3', 'DKEFS T1',\n",
      "       'DKEFS T2', 'DKEFS T3', 'Stroop T1', 'Stroop T2', 'Stroop T3',\n",
      "       'SDMT T1', 'SDMT T2', 'SDMT T3'],\n",
      "      dtype='object') Index(['HT102', 'HT103', 'HT105', 'HT106', 'HT107', 'HT109', 'HT111', 'HT112',\n",
      "       'HT113', 'HT114',\n",
      "       ...\n",
      "       'TBN-043', 'TBN-044', 'TBN-045', 'TBN-046', 'TBN-047', 'TBN-049',\n",
      "       'TBN-050', 'TBN-051', 'TBN-052', 'TBN-053'],\n",
      "      dtype='object', length=154)\n"
     ]
    }
   ],
   "source": [
    "reduce_data = all_data.iloc[:,0:280]\n",
    "print(reduce_data.columns, reduce_data.index)\n",
    "\n",
    "reduce_label = all_data.iloc[:,280:]\n",
    "print(reduce_label.columns, reduce_label.index)"
   ]
  },
  {
   "cell_type": "code",
   "execution_count": 13,
   "metadata": {},
   "outputs": [
    {
     "name": "stdout",
     "output_type": "stream",
     "text": [
      "new data file generated\n",
      "file exist, check the disk\n"
     ]
    }
   ],
   "source": [
    "if not os.path.isfile('data_154.xlsx'):\n",
    "    reduce_data.to_excel('data_154.xlsx')\n",
    "    print('new data file generated')\n",
    "else:\n",
    "    print('file exist, check the disk')\n",
    "    \n",
    "if not os.path.isfile('label_154.xlsx'):\n",
    "    reduce_label.to_excel('label_154.xlsx')\n",
    "    print('new label file generated')\n",
    "else:\n",
    "    print('file exist, check the disk')"
   ]
  },
  {
   "cell_type": "code",
   "execution_count": null,
   "metadata": {},
   "outputs": [],
   "source": []
  }
 ],
 "metadata": {
  "kernelspec": {
   "display_name": "pytorch=1.0, CUDA=10.1",
   "language": "python",
   "name": "cs231"
  },
  "language_info": {
   "codemirror_mode": {
    "name": "ipython",
    "version": 3
   },
   "file_extension": ".py",
   "mimetype": "text/x-python",
   "name": "python",
   "nbconvert_exporter": "python",
   "pygments_lexer": "ipython3",
   "version": "3.6.8"
  }
 },
 "nbformat": 4,
 "nbformat_minor": 2
}
