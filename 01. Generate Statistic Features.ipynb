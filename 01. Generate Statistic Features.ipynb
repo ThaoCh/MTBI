{
 "cells": [
  {
   "cell_type": "code",
   "execution_count": 1,
   "metadata": {},
   "outputs": [],
   "source": [
    "###################### Importing Packages #########################################\n",
    "import os\n",
    "\n",
    "import numpy as np\n",
    "import pickle, random, time\n",
    "from sklearn import svm\n",
    "from itertools import chain, combinations\n",
    "from copy import deepcopy\n",
    "from sklearn.decomposition import PCA\n",
    "import pandas as pd\n",
    "import nibabel as nib\n",
    "\n",
    "from datautility import *\n",
    "\n",
    "from scipy.stats import kurtosis, moment, skew, entropy\n",
    "from tqdm import tqdm\n",
    "from scipy.io import savemat, loadmat\n",
    "\n",
    "%matplotlib inline\n",
    "%load_ext autoreload\n",
    "%autoreload 2"
   ]
  },
  {
   "cell_type": "markdown",
   "metadata": {},
   "source": [
    "## Read and Save prefrontal mask\n",
    "* compress nii to mat\n",
    "* separate left prefrontal and right prefrontal area"
   ]
  },
  {
   "cell_type": "code",
   "execution_count": 9,
   "metadata": {},
   "outputs": [
    {
     "data": {
      "text/plain": [
       "\"\\nDEP!\\n\\nprefrontal_file = './data/masks/Bilateral_prefrontalWM.nii'\\nprefrontal_array = ((nib.load(prefrontal_file)).get_fdata()).astype(np.float32)\\nprefrontal_l = np.zeros(prefrontal_array.shape)\\nprefrontal_r = np.zeros(prefrontal_array.shape)\\nfor i in np.arange (prefrontal_array.shape[0]):\\n    if i > 91:\\n        prefrontal_l[i] = prefrontal_array[i]\\n    else:\\n        prefrontal_r[i] = prefrontal_array[i]\\n\\nprefrontal_l_dict = {}\\nprefrontal_r_dict = {}\\n\\nprefrontal_l_dict['vol'] = prefrontal_l\\nprefrontal_r_dict['vol'] = prefrontal_r\\n\\nsavemat('./data/masks/L_Pref.mat', prefrontal_l_dict, do_compression=True)\\nsavemat('./data/masks/R_Pref.mat', prefrontal_r_dict, do_compression=True)\\n\""
      ]
     },
     "execution_count": 9,
     "metadata": {},
     "output_type": "execute_result"
    }
   ],
   "source": [
    "'''\n",
    "DEP!\n",
    "\n",
    "prefrontal_file = './data/masks/Bilateral_prefrontalWM.nii'\n",
    "prefrontal_array = ((nib.load(prefrontal_file)).get_fdata()).astype(np.float32)\n",
    "prefrontal_l = np.zeros(prefrontal_array.shape)\n",
    "prefrontal_r = np.zeros(prefrontal_array.shape)\n",
    "for i in np.arange (prefrontal_array.shape[0]):\n",
    "    if i > 91:\n",
    "        prefrontal_l[i] = prefrontal_array[i]\n",
    "    else:\n",
    "        prefrontal_r[i] = prefrontal_array[i]\n",
    "\n",
    "prefrontal_l_dict = {}\n",
    "prefrontal_r_dict = {}\n",
    "\n",
    "prefrontal_l_dict['vol'] = prefrontal_l\n",
    "prefrontal_r_dict['vol'] = prefrontal_r\n",
    "\n",
    "savemat('./data/masks/L_Pref.mat', prefrontal_l_dict, do_compression=True)\n",
    "savemat('./data/masks/R_Pref.mat', prefrontal_r_dict, do_compression=True)\n",
    "'''"
   ]
  },
  {
   "cell_type": "code",
   "execution_count": 26,
   "metadata": {},
   "outputs": [
    {
     "name": "stdout",
     "output_type": "stream",
     "text": [
      "(82, 82, 28)\n"
     ]
    }
   ],
   "source": [
    "PATH = './data/prior_cycle_subj_space_metrics_and_masks/mask_mat/' + 'HT102_cc_body_mask_b0_fa.mat'\n",
    "data = loadmat(PATH)\n",
    "print(data['vol'].shape)"
   ]
  },
  {
   "cell_type": "markdown",
   "metadata": {},
   "source": [
    "## Defining Global Variable\n",
    "* 12 channels of metrics to use: [ad, ak, awf, eas_De_par, eas_De_perp, eas_tort, FA, ias_Da, md, mk, rd, rk]\n",
    "* 5 region mask: [1_L_thal, 2_R_thal, CC_Body_mask, CC_Genu_mask, CC_Splenium_mask]\n",
    "* 67 positive index and 50 negative index in 117 new subjects \n",
    "* 27 positive index and 22 negative index in 49 old subjects"
   ]
  },
  {
   "cell_type": "code",
   "execution_count": 2,
   "metadata": {},
   "outputs": [],
   "source": [
    "###################### Importing Packages #########################################\n",
    "# metric = ['ad', 'ak', 'awf', 'eas_De_par', 'eas_De_perp', 'eas_tort', 'FA', 'ias_Da', 'md', 'mk', 'rd', 'rk']\n",
    "# 12 metrics in total\n",
    "\n",
    "whichmask = 'new'\n",
    "\n",
    "metric = ['ak', 'awf', 'eas_De_par', 'eas_De_perp', 'FA', 'ias_Da', 'md', 'mk']\n",
    "# 8 metric to use, proposed by Alp\n",
    "# \n",
    "\n",
    "if whichmask == 'new':\n",
    "    mask_name = ['left_rostral','right_rostral','left_middle','right_middle','left_caudal', 'right_caudal', 'corpus_callosum']\n",
    "else:\n",
    "    mask_name = ['1_L_thal','2_R_thal','CC_Body_mask','CC_Genu_mask','CC_Splenium_mask', 'L_Pref', 'R_Pref']\n",
    "# 7 Regions in total, new or old\n",
    "\n",
    "positive_idx = np.arange(73) + 1\n",
    "positive_idx = np.delete(positive_idx, [8, 15, 16, 17, 29, 33])\n",
    "\n",
    "# should be 67 postive in total\n",
    "\n",
    "negative_idx = np.arange(53) + 1\n",
    "negative_idx = np.delete(negative_idx, [14, 15, 16])\n",
    "\n",
    "# should be 50 negative in total\n",
    "\n",
    "OLD_PATH = './data/old_65subj_stats JFR.xlsx'\n",
    "\n",
    "old_data = pd.read_excel(OLD_PATH, header=0, index_col=0, sheet_name=0)\n",
    "old_idx = list(old_data.index)\n",
    "\n",
    "old_index = np.arange(65)\n",
    "old_index = np.delete(old_index, [1, 4, 6, 8, 10, 12, 14, 16, 21, 23, 26, 29, 33, 35, 37, 43])\n",
    "\n",
    "# And 49 old subjects \n",
    "\n",
    "stats = [np.mean, np.std, skew, kurtosis, entropy] # mean, std, normalize 3rd moment, normalized 4th moment, entrophy \n",
    "stats_str = ['mean', 'std', 'skew', 'kurt', 'etrp'] # mean, std, normalize 3rd moment, normalized 4th moment, entrophy "
   ]
  },
  {
   "cell_type": "markdown",
   "metadata": {},
   "source": [
    "## Generating sample image and clown mask\n",
    "* using 5 region mask: [1_L_thal, 2_R_thal, CC_Body_mask, CC_Genu_mask, CC_Splenium_mask]\n",
    "\n",
    "## Or using the new masks\n",
    "* ['left_rostral','right_rostral','left_middle','right_middle','left_caudal', 'right_caudal', 'corpus_callosum']"
   ]
  },
  {
   "cell_type": "code",
   "execution_count": 3,
   "metadata": {},
   "outputs": [
    {
     "name": "stdout",
     "output_type": "stream",
     "text": [
      "using new mask!\n"
     ]
    }
   ],
   "source": [
    "if whichmask == 'new':\n",
    "    mask_neo_path = './data/masks/JHU-ICBM-labels-1mm_7ROI_edits.nii'\n",
    "    mask_neo_data = ((nib.load(mask_neo_path)).get_fdata()).astype(np.float32)\n",
    "    mask_neo_data = mask_neo_data.squeeze()\n",
    "    mask = np.zeros((7, *mask_neo_data.shape))\n",
    "\n",
    "    for i in range(mask.shape[0]):\n",
    "        mask[i] = (mask_neo_data == i+1).astype(np.float32)\n",
    "    print('using new mask!')\n",
    "else:\n",
    "    # using old mask!\n",
    "    mask = get_mask(mask_name)\n",
    "    mask = (mask != 0).astype(np.float32)\n",
    "    print('using old mask!')"
   ]
  },
  {
   "cell_type": "markdown",
   "metadata": {},
   "source": [
    "## Save the masks into a single nii file\n",
    "* Do not run other than 1st time !\n",
    "* 7 mask .nii for visualization"
   ]
  },
  {
   "cell_type": "code",
   "execution_count": 10,
   "metadata": {},
   "outputs": [
    {
     "data": {
      "text/plain": [
       "\"\\n# DEP!\\n\\nmask_one = np.zeros([182, 218, 182])\\n\\nfor i, m in enumerate(mask):\\n    mask_one += (i+1)*m \\n\\ndata = get_image(1, metric, positive=True)\\n\\nsavenii(mask_one, '7_mask')\\n\""
      ]
     },
     "execution_count": 10,
     "metadata": {},
     "output_type": "execute_result"
    }
   ],
   "source": [
    "'''\n",
    "# DEP!\n",
    "\n",
    "mask_one = np.zeros([182, 218, 182])\n",
    "\n",
    "for i, m in enumerate(mask):\n",
    "    mask_one += (i+1)*m \n",
    "\n",
    "data = get_image(1, metric, positive=True)\n",
    "\n",
    "savenii(mask_one, '7_mask')\n",
    "'''"
   ]
  },
  {
   "cell_type": "markdown",
   "metadata": {},
   "source": [
    "## Generating 67 positive subjects among 117 new subjects\n",
    "* each subject has a feature vector of shape (360,)"
   ]
  },
  {
   "cell_type": "code",
   "execution_count": 4,
   "metadata": {
    "scrolled": false
   },
   "outputs": [
    {
     "name": "stderr",
     "output_type": "stream",
     "text": [
      "100%|██████████████████████████████████████████████████████████████████████████████████| 67/67 [06:51<00:00,  6.66s/it]\n"
     ]
    },
    {
     "name": "stdout",
     "output_type": "stream",
     "text": [
      "loading 67 positive subjects\n"
     ]
    }
   ],
   "source": [
    "# Generating positive data\n",
    "\n",
    "data_positive = []\n",
    "key_positive = []\n",
    "\n",
    "for p in tqdm(positive_idx):\n",
    "    \n",
    "    data = get_image(p, metric, positive=True)\n",
    "    temp = np.zeros([len(metric), len(mask), len(stats)])\n",
    "\n",
    "    for i, m in enumerate(data): # for metric in data\n",
    "        for j, k in enumerate(mask): # for mask in mask\n",
    "            mask_data = (m*k).reshape(-1)\n",
    "            mask_data = mask_data[mask_data != 0]\n",
    "            for t, s in enumerate(stats):\n",
    "                temp[i,j,t] = s(mask_data)\n",
    "                \n",
    "    temp = temp.reshape(-1) # a C style flattening, metric*mask*stats\n",
    "    data_positive.append(temp)\n",
    "    \n",
    "    key = 'TBI-' + '{:03}'.format(p)\n",
    "    key_positive.append(key)\n",
    "    \n",
    "print('loading {} positive subjects'.format(len(data_positive)))"
   ]
  },
  {
   "cell_type": "markdown",
   "metadata": {},
   "source": [
    "## Generating 50 positive subjects among 117 new subjects\n",
    "* each subject has a feature vector of shape (360,)"
   ]
  },
  {
   "cell_type": "code",
   "execution_count": 5,
   "metadata": {},
   "outputs": [
    {
     "name": "stderr",
     "output_type": "stream",
     "text": [
      "100%|██████████████████████████████████████████████████████████████████████████████████| 50/50 [05:26<00:00,  5.90s/it]\n"
     ]
    },
    {
     "name": "stdout",
     "output_type": "stream",
     "text": [
      "loading 50 negative subjects\n"
     ]
    }
   ],
   "source": [
    "# Generating negative data\n",
    "\n",
    "data_negative = []\n",
    "key_negative = []\n",
    "\n",
    "for n in tqdm(negative_idx):\n",
    "\n",
    "    data = get_image(n, metric, positive=False)\n",
    "    temp = np.zeros([len(metric), len(mask), len(stats)])\n",
    "\n",
    "    for i, m in enumerate(data): # for metric in data\n",
    "        for j, k in enumerate(mask): # for mask in mask\n",
    "            mask_data = (m*k).reshape(-1)\n",
    "            mask_data = mask_data[mask_data != 0]\n",
    "            for t, s in enumerate(stats):\n",
    "                temp[i,j,t] = s(mask_data)\n",
    "                \n",
    "    temp = temp.reshape(-1) # a C style flattening, metric*mask*stats\n",
    "    data_negative.append(temp)\n",
    "    key = 'TBN-' + '{:03}'.format(n)\n",
    "    key_negative.append(key)\n",
    "    \n",
    "print('loading {} negative subjects'.format(len(data_negative)))"
   ]
  },
  {
   "cell_type": "markdown",
   "metadata": {},
   "source": [
    "## Generating 49 subjects among 67 old images\n",
    "* Other 18 subjects are take MRI second time, ignore them for this dataset"
   ]
  },
  {
   "cell_type": "code",
   "execution_count": 6,
   "metadata": {},
   "outputs": [
    {
     "name": "stderr",
     "output_type": "stream",
     "text": [
      "100%|██████████████████████████████████████████████████████████████████████████████████| 49/49 [05:17<00:00,  6.39s/it]\n"
     ]
    },
    {
     "name": "stdout",
     "output_type": "stream",
     "text": [
      "loading 49 old subjects\n"
     ]
    }
   ],
   "source": [
    "data_old = []\n",
    "key_old = []\n",
    "\n",
    "for o, key in enumerate(tqdm(old_idx)):\n",
    "    data = get_old_image(old_index[o], metric)\n",
    "    temp = np.zeros([len(metric), len(mask), len(stats)])\n",
    "\n",
    "    for i, m in enumerate(data): # for metric in data\n",
    "        for j, k in enumerate(mask): # for mask in mask\n",
    "            mask_data = (m*k).reshape(-1)\n",
    "            mask_data = mask_data[mask_data != 0]\n",
    "\n",
    "            for t, s in enumerate(stats):\n",
    "                temp[i,j,t] = s(mask_data)\n",
    "    temp = temp.reshape(-1) # a C style flattening, metric*mask*stats\n",
    "    data_old.append(temp)\n",
    "    key_old.append(key)\n",
    "    \n",
    "print('loading {} old subjects'.format(len(data_old)))"
   ]
  },
  {
   "cell_type": "markdown",
   "metadata": {},
   "source": [
    "## Binding data\n",
    "* Sequence: old subjects -> positive new subjects -> negative new subjects\n",
    "* Generate column names as statistic * mask * metric"
   ]
  },
  {
   "cell_type": "code",
   "execution_count": 7,
   "metadata": {},
   "outputs": [
    {
     "name": "stdout",
     "output_type": "stream",
     "text": [
      "166 (280,)\n"
     ]
    }
   ],
   "source": [
    "data_all = []\n",
    "key_all = []\n",
    "\n",
    "data_all = data_old + data_positive + data_negative\n",
    "key_all = key_old + key_positive + key_negative\n",
    "\n",
    "print(len(data_all), data_all[0].shape)"
   ]
  },
  {
   "cell_type": "code",
   "execution_count": 8,
   "metadata": {},
   "outputs": [],
   "source": [
    "import itertools\n",
    "\n",
    "pre_column = ['-'.join(i) for i in list(itertools.product(mask_name, stats_str))]\n",
    "index_column = ['-'.join(i) for i in list(itertools.product(metric, pre_column))] # metric"
   ]
  },
  {
   "cell_type": "code",
   "execution_count": 10,
   "metadata": {},
   "outputs": [
    {
     "name": "stdout",
     "output_type": "stream",
     "text": [
      "Index(['HT102', 'HT103', 'HT105', 'HT106', 'HT107', 'HT109', 'HT111', 'HT112',\n",
      "       'HT113', 'HT114',\n",
      "       ...\n",
      "       'TBN-044', 'TBN-045', 'TBN-046', 'TBN-047', 'TBN-048', 'TBN-049',\n",
      "       'TBN-050', 'TBN-051', 'TBN-052', 'TBN-053'],\n",
      "      dtype='object', length=166) 166 280\n"
     ]
    }
   ],
   "source": [
    "data_dict = pd.DataFrame(data=data_all, index=key_all, columns=index_column)\n",
    "print(data_dict.index, len(key_all), len(index_column))\n",
    "####################### Save dataframe to Excel #############################################\n",
    "\n",
    "SAVE_PATH = './data/stats_data_gather' + str(whichmask) + '.xlsx'\n",
    "if not os.path.isfile(SAVE_PATH):\n",
    "    data_dict.to_excel(SAVE_PATH)\n",
    "    pass\n",
    "else:\n",
    "    print('file {} exists'.format(SAVE_PATH))"
   ]
  },
  {
   "cell_type": "code",
   "execution_count": 11,
   "metadata": {},
   "outputs": [
    {
     "name": "stdout",
     "output_type": "stream",
     "text": [
      "Index(['HT102', 'HT103', 'HT104', 'HT105', 'HT106', 'HT107', 'HT108', 'HT109',\n",
      "       'HT110', 'HT111',\n",
      "       ...\n",
      "       'TBN-043', 'TBN-044', 'TBN-045', 'TBN-046', 'TBN-047', 'TBN-049',\n",
      "       'TBN-050', 'TBN-051', 'TBN-052', 'TBN-053'],\n",
      "      dtype='object', name='Subject', length=172) Index(['Unnamed: 0', 'T1 Letter Number', 'T2 Letter Number',\n",
      "       'T3 Letter Number', 'Digit Span Forward T1', 'Digit Span Forward T2',\n",
      "       'Digit Span Forward T3', 'Digit Span Backward T1',\n",
      "       'Digit Span Backward T2', 'Digit Span Backward T3', 'Trailmaking B T1',\n",
      "       'Trailmaking B T2', 'Trailmaking B T3', 'Trailmaking A T1',\n",
      "       'Trailmaking A T2', 'Trailmaking A T3', 'CVLT T1', 'CVLT T2', 'CVLT T3',\n",
      "       'RCFT Immediate T1', 'RCFT Immediate T2', 'RCFT Immediate T3',\n",
      "       'RCFT Delayed T1', 'RCFT Delayed T2', 'RCFT Delayed T3', 'DKEFS T1',\n",
      "       'DKEFS T2', 'DKEFS T3', 'Stroop T1', 'Stroop T2', 'Stroop T3',\n",
      "       'SDMT T1', 'SDMT T2', 'SDMT T3'],\n",
      "      dtype='object')\n",
      "Index(['HT102', 'HT103', 'HT105', 'HT106', 'HT107', 'HT109', 'HT111', 'HT112',\n",
      "       'HT113', 'HT114',\n",
      "       ...\n",
      "       'TBN-044', 'TBN-045', 'TBN-046', 'TBN-047', 'TBN-048', 'TBN-049',\n",
      "       'TBN-050', 'TBN-051', 'TBN-052', 'TBN-053'],\n",
      "      dtype='object', length=166) Index(['ak-left_rostral-mean', 'ak-left_rostral-std', 'ak-left_rostral-skew',\n",
      "       'ak-left_rostral-kurt', 'ak-left_rostral-etrp', 'ak-right_rostral-mean',\n",
      "       'ak-right_rostral-std', 'ak-right_rostral-skew',\n",
      "       'ak-right_rostral-kurt', 'ak-right_rostral-etrp',\n",
      "       ...\n",
      "       'mk-right_caudal-mean', 'mk-right_caudal-std', 'mk-right_caudal-skew',\n",
      "       'mk-right_caudal-kurt', 'mk-right_caudal-etrp',\n",
      "       'mk-corpus_callosum-mean', 'mk-corpus_callosum-std',\n",
      "       'mk-corpus_callosum-skew', 'mk-corpus_callosum-kurt',\n",
      "       'mk-corpus_callosum-etrp'],\n",
      "      dtype='object', length=280)\n"
     ]
    }
   ],
   "source": [
    "LABEL_PATH = './data/merged_np.xlsx'\n",
    "label_data = pd.read_excel(LABEL_PATH, index_col=1, sheet_name=0)\n",
    "print(label_data.index, label_data.columns)\n",
    "\n",
    "DATA_PATH = './data/stats_data_gather' + str(whichmask) + '.xlsx'\n",
    "stats_data = pd.read_excel(DATA_PATH, index_col=0, sheet_name=0)\n",
    "print(stats_data.index, stats_data.columns)"
   ]
  },
  {
   "cell_type": "code",
   "execution_count": 12,
   "metadata": {},
   "outputs": [
    {
     "name": "stdout",
     "output_type": "stream",
     "text": [
      "         ak-left_rostral-mean  ak-left_rostral-std  ak-left_rostral-skew  \\\n",
      "HT102                0.711688             0.099930              0.035801   \n",
      "HT103                0.817952             0.103033              0.355190   \n",
      "HT105                0.674939             0.077506             -0.030097   \n",
      "HT106                0.727447             0.097820             -0.157553   \n",
      "HT107                0.702618             0.087973              0.492982   \n",
      "HT109                0.738951             0.108377              0.174937   \n",
      "HT111                0.746832             0.102041              0.340578   \n",
      "HT112                0.770847             0.111066              0.035941   \n",
      "HT113                0.740806             0.102565              0.427830   \n",
      "HT114                0.673243             0.105041              0.305182   \n",
      "HT115                0.685889             0.107794              0.454253   \n",
      "HT116                0.741918             0.098357              0.517971   \n",
      "HT117                0.749752             0.095327              0.026930   \n",
      "HT118                0.708265             0.096543              0.103088   \n",
      "HT119                0.724992             0.110130              0.286155   \n",
      "HT121                0.736188             0.082029              0.089495   \n",
      "HT122                0.775940             0.102591              0.364106   \n",
      "HT123                0.688885             0.093194              0.221090   \n",
      "HT124                0.701440             0.098202             -0.118409   \n",
      "HT125                0.679149             0.074880              0.297063   \n",
      "HT126                0.740721             0.093882             -0.146852   \n",
      "HT127                0.731751             0.111289              1.081338   \n",
      "HT128                0.731321             0.097828              0.428161   \n",
      "HT129                0.716071             0.098221             -0.113782   \n",
      "HT130                0.793468             0.108508              0.949245   \n",
      "HT131                0.750153             0.091978              0.574348   \n",
      "HT132                0.747417             0.098006              0.798607   \n",
      "N101                 0.785927             0.094509             -0.111421   \n",
      "N103                 0.762352             0.094242              0.127887   \n",
      "N105                 0.715576             0.115000              0.074993   \n",
      "...                       ...                  ...                   ...   \n",
      "TBN-023              0.672233             0.110832             -0.071945   \n",
      "TBN-024              0.717485             0.135487              0.204983   \n",
      "TBN-025              0.665455             0.116959              0.399702   \n",
      "TBN-026              0.709061             0.102836             -0.133314   \n",
      "TBN-027              0.724026             0.119057              0.399305   \n",
      "TBN-028              0.688304             0.106187              0.139159   \n",
      "TBN-029              0.695974             0.116237              0.703957   \n",
      "TBN-030              0.712708             0.118788             -0.006129   \n",
      "TBN-031              0.750009             0.137520             -0.159092   \n",
      "TBN-032              0.747098             0.136981             -0.432415   \n",
      "TBN-033              0.737141             0.142463              0.054608   \n",
      "TBN-034              0.729229             0.170938              0.061300   \n",
      "TBN-035              0.830861             0.129867              0.030107   \n",
      "TBN-036              0.729529             0.114064             -0.103481   \n",
      "TBN-037              0.655326             0.133897             -0.062998   \n",
      "TBN-038              0.733497             0.096281              0.354531   \n",
      "TBN-039              0.616371             0.089772              0.421604   \n",
      "TBN-040              0.739668             0.144639              0.237186   \n",
      "TBN-041              0.722441             0.122991             -0.044251   \n",
      "TBN-042              0.777186             0.160855              0.126050   \n",
      "TBN-043              0.818188             0.160578              0.196427   \n",
      "TBN-044              0.715588             0.149797             -0.082334   \n",
      "TBN-045              0.699665             0.162255             -0.130116   \n",
      "TBN-046              0.809975             0.143286             -0.091113   \n",
      "TBN-047              0.782810             0.126085              0.097866   \n",
      "TBN-049              0.753952             0.176168              0.150585   \n",
      "TBN-050              0.698529             0.149640              0.058745   \n",
      "TBN-051              0.667111             0.126785             -0.072730   \n",
      "TBN-052              0.723212             0.122152             -0.057255   \n",
      "TBN-053              0.689465             0.112301             -0.300660   \n",
      "\n",
      "         ak-left_rostral-kurt  ak-left_rostral-etrp  ak-right_rostral-mean  \\\n",
      "HT102                0.060189              8.771152               0.725175   \n",
      "HT103                0.657417              8.773202               0.788615   \n",
      "HT105               -0.260009              8.774453               0.714479   \n",
      "HT106                0.655313              8.771880               0.716139   \n",
      "HT107                0.955637              8.773345               0.686803   \n",
      "HT109               -0.044341              8.770318               0.758474   \n",
      "HT111                0.091491              8.771820               0.741959   \n",
      "HT112               -0.425449              8.770637               0.781724   \n",
      "HT113                0.391443              8.771601               0.741694   \n",
      "HT114                0.040462              8.768970               0.716395   \n",
      "HT115                0.288552              8.768880               0.697741   \n",
      "HT116                0.777728              8.772416               0.743084   \n",
      "HT117                2.374875              8.772876               0.724616   \n",
      "HT118               -0.254338              8.771767               0.709445   \n",
      "HT119                0.332486              8.769582               0.756710   \n",
      "HT121                0.150341              8.774867               0.758833   \n",
      "HT122               -0.211619              8.772427               0.766838   \n",
      "HT123               -0.372738              8.771963               0.689853   \n",
      "HT124                1.253986              8.771090               0.762968   \n",
      "HT125                0.156258              8.775044               0.681505   \n",
      "HT126               -0.167064              8.772948               0.728934   \n",
      "HT127                1.797225              8.769985               0.745170   \n",
      "HT128                0.511355              8.772231               0.735533   \n",
      "HT129               -0.064374              8.771546               0.719835   \n",
      "HT130                2.529934              8.772010               0.795538   \n",
      "HT131                0.505783              8.773692               0.775353   \n",
      "HT132                2.893017              8.772679               0.779835   \n",
      "N101                 0.795841              8.773755               0.744290   \n",
      "N103                 0.178210              8.773433               0.745504   \n",
      "N105                 0.921552              8.767991               0.715142   \n",
      "...                       ...                   ...                    ...   \n",
      "TBN-023              0.746645              8.802347               0.672924   \n",
      "TBN-024              0.292590              8.798304               0.712923   \n",
      "TBN-025              0.128897              8.800938               0.682671   \n",
      "TBN-026              0.178718              8.805544               0.714378   \n",
      "TBN-027              0.287103              8.802842               0.722795   \n",
      "TBN-028              0.275293              8.804284               0.691315   \n",
      "TBN-029              1.790133              8.802594               0.684674   \n",
      "TBN-030             -0.112546              8.802166               0.748069   \n",
      "TBN-031              0.079665              8.798948               0.747042   \n",
      "TBN-032              1.236781              8.798431               0.738962   \n",
      "TBN-033              0.068379              8.797271               0.778741   \n",
      "TBN-034             -0.134474              8.788161               0.773799   \n",
      "TBN-035              0.563940              8.803874               0.802315   \n",
      "TBN-036              0.268465              8.803789               0.721450   \n",
      "TBN-037              0.428145              8.794742               0.719383   \n",
      "TBN-038              1.343444              8.807682               0.751951   \n",
      "TBN-039              1.416200              8.805716               0.658821   \n",
      "TBN-040              0.140059              8.797046               0.772496   \n",
      "TBN-041              1.432252              8.801388               0.776797   \n",
      "TBN-042              0.653917              8.794427               0.767945   \n",
      "TBN-043              0.723078              8.796773               0.768471   \n",
      "TBN-044             -0.387118              8.793757               0.717824   \n",
      "TBN-045             -0.005435              8.788261               0.735969   \n",
      "TBN-046              0.220114              8.800237               0.756270   \n",
      "TBN-047              0.137438              8.803176               0.792720   \n",
      "TBN-049             -0.076723              8.788520               0.764568   \n",
      "TBN-050              0.453004              8.792727               0.688892   \n",
      "TBN-051             -0.123045              8.797775               0.664379   \n",
      "TBN-052              0.169971              8.801719               0.736941   \n",
      "TBN-053              0.265075              8.802556               0.657392   \n",
      "\n",
      "         ak-right_rostral-std  ak-right_rostral-skew  ak-right_rostral-kurt  \\\n",
      "HT102                0.081602               0.193051              -0.146179   \n",
      "HT103                0.111114               0.275957               0.773773   \n",
      "HT105                0.086250               0.139048               0.398334   \n",
      "HT106                0.087189              -0.296983               0.590076   \n",
      "HT107                0.085355               0.322452               0.126025   \n",
      "HT109                0.099932               0.223853               0.370403   \n",
      "HT111                0.101452              -0.229146               0.271739   \n",
      "HT112                0.111316               0.168850               1.007378   \n",
      "HT113                0.103466               0.177663              -0.063899   \n",
      "HT114                0.101427               0.173580               0.286548   \n",
      "HT115                0.099884               0.392817               1.091562   \n",
      "HT116                0.086335               0.087540               1.192081   \n",
      "HT117                0.097126               0.484072               0.610078   \n",
      "HT118                0.095048               0.091959               0.042010   \n",
      "HT119                0.102742               0.226026               0.334713   \n",
      "HT121                0.094168               0.874963               1.403115   \n",
      "HT122                0.091067               0.283564              -0.553558   \n",
      "HT123                0.099905               0.505440               1.240805   \n",
      "HT124                0.105757              -0.201665               1.651047   \n",
      "HT125                0.078118               0.366978               0.546116   \n",
      "HT126                0.096750               0.249097               0.234614   \n",
      "HT127                0.094804               0.541576               1.726901   \n",
      "HT128                0.095266               0.772183               0.554036   \n",
      "HT129                0.098308               0.332199               0.013568   \n",
      "HT130                0.095641               0.385541               0.565553   \n",
      "HT131                0.090176               0.355748               0.787385   \n",
      "HT132                0.102151               0.463391               0.475511   \n",
      "N101                 0.109299               0.433573              -0.015791   \n",
      "N103                 0.085289               0.252676               0.992200   \n",
      "N105                 0.081151               0.294363               0.493274   \n",
      "...                       ...                    ...                    ...   \n",
      "TBN-023              0.111647               0.124908               0.505775   \n",
      "TBN-024              0.109971               0.093337               0.394257   \n",
      "TBN-025              0.111336               0.320734               0.233440   \n",
      "TBN-026              0.087474              -0.029508               0.492156   \n",
      "TBN-027              0.126416               0.084111               0.191081   \n",
      "TBN-028              0.102399               0.665524               1.311219   \n",
      "TBN-029              0.120578               0.588683               0.952375   \n",
      "TBN-030              0.110893              -0.229336               0.111714   \n",
      "TBN-031              0.127279              -0.037019               0.794374   \n",
      "TBN-032              0.134049               0.666004               0.829475   \n",
      "TBN-033              0.144070              -0.222865              -0.042694   \n",
      "TBN-034              0.179360              -0.144596              -0.255125   \n",
      "TBN-035              0.141812               0.245077               0.918657   \n",
      "TBN-036              0.111543               0.431895               0.573275   \n",
      "TBN-037              0.130223              -0.025470               0.259045   \n",
      "TBN-038              0.106212               0.391657               1.597590   \n",
      "TBN-039              0.096928               0.189161               0.344769   \n",
      "TBN-040              0.149720              -0.135438               0.463323   \n",
      "TBN-041              0.128526               0.067504               0.241357   \n",
      "TBN-042              0.156754              -0.001189              -0.087076   \n",
      "TBN-043              0.147086              -0.279929               0.778744   \n",
      "TBN-044              0.157869               0.127663              -0.107425   \n",
      "TBN-045              0.171223               0.038330               0.026900   \n",
      "TBN-046              0.146823               0.204871               0.311211   \n",
      "TBN-047              0.126472               0.016520              -0.091382   \n",
      "TBN-049              0.159846               0.230519               0.239733   \n",
      "TBN-050              0.119045               0.002873               0.699869   \n",
      "TBN-051              0.106278              -0.018901              -0.061302   \n",
      "TBN-052              0.110713               0.118405               0.868792   \n",
      "TBN-053              0.110675              -0.098653               0.377077   \n",
      "\n",
      "         ak-right_rostral-etrp  ...  RCFT Delayed T3  DKEFS T1  DKEFS T2  \\\n",
      "HT102                 8.765357  ...             0.90     0.000       NaN   \n",
      "HT103                 8.761763  ...              NaN    -0.300       NaN   \n",
      "HT105                 8.764376  ...            -1.30     1.600       NaN   \n",
      "HT106                 8.764107  ...             0.10    -0.700       NaN   \n",
      "HT107                 8.764001  ...            -0.10     1.000       NaN   \n",
      "HT109                 8.763003  ...            -0.10    -0.300       NaN   \n",
      "HT111                 8.762131  ...            -0.03    -2.000       NaN   \n",
      "HT112                 8.761486  ...             1.80     0.000       NaN   \n",
      "HT113                 8.761938  ...             1.20     0.000       NaN   \n",
      "HT114                 8.761634  ...              NaN     0.700       NaN   \n",
      "HT115                 8.761492  ...              NaN     0.700       NaN   \n",
      "HT116                 8.764891  ...              NaN    -2.400       NaN   \n",
      "HT117                 8.762801  ...            -0.20    -1.000       NaN   \n",
      "HT118                 8.762660  ...             1.60     1.000       NaN   \n",
      "HT119                 8.762467  ...              NaN    -2.000       NaN   \n",
      "HT121                 8.764181  ...             2.10    -1.300       NaN   \n",
      "HT122                 8.764669  ...              NaN    -2.400       NaN   \n",
      "HT123                 8.761299  ...             0.20    -0.300       NaN   \n",
      "HT124                 8.761810  ...              NaN     0.700       NaN   \n",
      "HT125                 8.765153  ...              NaN    -0.700       NaN   \n",
      "HT126                 8.762888  ...            -2.70    -2.000       NaN   \n",
      "HT127                 8.763676  ...             0.90    -0.700       NaN   \n",
      "HT128                 8.763498  ...            -0.50     0.000       NaN   \n",
      "HT129                 8.762412  ...            -0.57     1.000       NaN   \n",
      "HT130                 8.764506  ...              NaN     0.300       NaN   \n",
      "HT131                 8.764957  ...            -0.44     0.000       NaN   \n",
      "HT132                 8.763195  ...            -0.26    -2.400       NaN   \n",
      "N101                  8.761020  ...            -0.20     1.300       NaN   \n",
      "N103                  8.765136  ...              NaN     1.300       NaN   \n",
      "N105                  8.765267  ...            -0.80     1.000       NaN   \n",
      "...                        ...  ...              ...       ...       ...   \n",
      "TBN-023               8.813132  ...             1.80    -0.411     -0.98   \n",
      "TBN-024               8.815024  ...            -0.10     2.600      1.23   \n",
      "TBN-025               8.813777  ...             0.60    -2.330       NaN   \n",
      "TBN-026               8.819454  ...              NaN     1.890       NaN   \n",
      "TBN-027               8.811545  ...             0.40     1.410      1.55   \n",
      "TBN-028               8.816263  ...            -3.10     2.330      0.50   \n",
      "TBN-029               8.811774  ...            -0.30     0.500      1.04   \n",
      "TBN-030               8.815776  ...              NaN       NaN       NaN   \n",
      "TBN-031               8.812183  ...              NaN     2.330       NaN   \n",
      "TBN-032               8.810929  ...              NaN    -1.130       NaN   \n",
      "TBN-033               8.809343  ...              NaN    -0.520       NaN   \n",
      "TBN-034               8.799106  ...              NaN    -0.990       NaN   \n",
      "TBN-035               8.811297  ...              NaN    -0.080       NaN   \n",
      "TBN-036               8.815179  ...              NaN     0.280       NaN   \n",
      "TBN-037               8.810290  ...              NaN     1.550       NaN   \n",
      "TBN-038               8.817082  ...              NaN     0.280       NaN   \n",
      "TBN-039               8.816178  ...            -1.50    -0.310       NaN   \n",
      "TBN-040               8.807612  ...              NaN     0.440       NaN   \n",
      "TBN-041               8.813170  ...            -0.80     0.280     -1.28   \n",
      "TBN-042               8.805721  ...              NaN     2.330      2.30   \n",
      "TBN-043               8.807853  ...              NaN     1.650      2.06   \n",
      "TBN-044               8.802487  ...              NaN    -1.340     -0.31   \n",
      "TBN-045               8.799237  ...              NaN     0.700       NaN   \n",
      "TBN-046               8.808025  ...              NaN    -1.130     -1.34   \n",
      "TBN-047               8.814145  ...              NaN       NaN       NaN   \n",
      "TBN-049               8.805019  ...              NaN     2.060       NaN   \n",
      "TBN-050               8.811796  ...              NaN    -0.610       NaN   \n",
      "TBN-051               8.814053  ...              NaN    -2.050       NaN   \n",
      "TBN-052               8.815640  ...              NaN     0.770       NaN   \n",
      "TBN-053               8.812527  ...              NaN     0.280       NaN   \n",
      "\n",
      "         DKEFS T3  Stroop T1  Stroop T2  Stroop T3  SDMT T1  SDMT T2  SDMT T3  \n",
      "HT102        0.00       0.69        NaN       0.59     1.09      NaN     0.20  \n",
      "HT103         NaN       0.20        NaN        NaN     1.51      NaN      NaN  \n",
      "HT105        2.60       0.97        NaN       0.97    -0.62      NaN     0.62  \n",
      "HT106        1.00       0.59        NaN       0.01    -0.04      NaN     1.50  \n",
      "HT107        1.30       0.69        NaN       0.69    -1.07      NaN     0.14  \n",
      "HT109       -1.00       0.10        NaN       0.20    -0.28      NaN     0.83  \n",
      "HT111       -1.70      -1.16        NaN      -0.08    -2.30      NaN    -2.07  \n",
      "HT112        0.70       0.59        NaN       0.59     1.05      NaN     0.42  \n",
      "HT113        1.30       0.59        NaN       0.49    -0.37      NaN    -0.73  \n",
      "HT114         NaN       0.49        NaN        NaN    -1.17      NaN      NaN  \n",
      "HT115         NaN       0.40        NaN        NaN     0.25      NaN      NaN  \n",
      "HT116         NaN      -0.92        NaN        NaN    -2.11      NaN      NaN  \n",
      "HT117       -0.30      -0.18        NaN       0.59    -0.28      NaN     0.43  \n",
      "HT118        0.70       0.59        NaN       0.40    -0.07      NaN    -0.40  \n",
      "HT119         NaN      -0.18        NaN        NaN     0.91      NaN      NaN  \n",
      "HT121       -1.30       0.49        NaN       0.59     0.03      NaN     0.80  \n",
      "HT122         NaN      -4.07        NaN        NaN    -3.21      NaN      NaN  \n",
      "HT123       -0.70      -1.75        NaN      -0.57    -1.07      NaN    -1.84  \n",
      "HT124         NaN      -0.08        NaN        NaN     0.91      NaN      NaN  \n",
      "HT125         NaN      -3.70        NaN        NaN    -2.09      NaN      NaN  \n",
      "HT126       -2.00      -0.77        NaN      -0.18    -1.71      NaN    -2.25  \n",
      "HT127       -0.70      -1.75        NaN      -0.67    -0.62      NaN    -1.47  \n",
      "HT128       -0.70       0.10        NaN       0.20     0.31      NaN     0.69  \n",
      "HT129        2.70       0.20        NaN       0.69    -0.31      NaN    -0.12  \n",
      "HT130         NaN      -2.14        NaN        NaN    -2.50      NaN      NaN  \n",
      "HT131       -1.33      -1.16        NaN      -1.95    -0.62      NaN     0.85  \n",
      "HT132        0.70      -0.57        NaN       0.68    -1.93      NaN     0.03  \n",
      "N101         2.00       0.49        NaN       0.59     0.68      NaN     0.80  \n",
      "N103          NaN       0.59        NaN        NaN     0.79      NaN      NaN  \n",
      "N105         1.00       0.69        NaN       0.97    -0.15      NaN    -0.97  \n",
      "...           ...        ...        ...        ...      ...      ...      ...  \n",
      "TBN-023      0.28       0.00       0.00       0.00     0.33     0.00     0.67  \n",
      "TBN-024      1.88       1.00       1.00       1.33     0.67     1.00     1.67  \n",
      "TBN-025     -1.42       1.33        NaN       1.00     1.00      NaN     1.67  \n",
      "TBN-026       NaN       1.33        NaN        NaN     2.00      NaN      NaN  \n",
      "TBN-027      1.41       1.00       1.33       1.33     1.00     1.00     1.00  \n",
      "TBN-028      0.44       0.67       0.67       1.00     0.67     1.00     1.67  \n",
      "TBN-029      1.65       0.67       0.67       1.00    -0.33     0.00     0.00  \n",
      "TBN-030       NaN       0.33        NaN        NaN     0.67      NaN      NaN  \n",
      "TBN-031       NaN       1.00        NaN        NaN     1.33      NaN      NaN  \n",
      "TBN-032       NaN       0.33        NaN        NaN    -1.00      NaN      NaN  \n",
      "TBN-033       NaN       0.00        NaN        NaN     0.67      NaN      NaN  \n",
      "TBN-034       NaN       0.00        NaN        NaN    -0.67      NaN      NaN  \n",
      "TBN-035       NaN       1.67        NaN        NaN     0.33      NaN      NaN  \n",
      "TBN-036       NaN       1.00        NaN        NaN     0.33      NaN      NaN  \n",
      "TBN-037       NaN       1.33        NaN        NaN    -1.00      NaN      NaN  \n",
      "TBN-038       NaN       1.00        NaN        NaN     2.33      NaN      NaN  \n",
      "TBN-039     -1.80       1.33        NaN       1.67     0.00      NaN     0.33  \n",
      "TBN-040       NaN       0.33        NaN        NaN     1.00      NaN      NaN  \n",
      "TBN-041      0.03      -0.33       0.00       1.00     1.00     1.00     1.33  \n",
      "TBN-042       NaN       0.33       1.00        NaN     1.00     1.00      NaN  \n",
      "TBN-043       NaN       0.33       0.33        NaN     0.67     0.33      NaN  \n",
      "TBN-044       NaN       1.00       0.00        NaN     0.67     0.33      NaN  \n",
      "TBN-045       NaN       1.00        NaN        NaN    -0.33      NaN      NaN  \n",
      "TBN-046       NaN       0.33       1.00        NaN     0.67     0.67      NaN  \n",
      "TBN-047       NaN      -0.33       0.67        NaN    -0.33    -0.33      NaN  \n",
      "TBN-049       NaN       0.67        NaN        NaN     0.67      NaN      NaN  \n",
      "TBN-050       NaN       0.33        NaN        NaN     0.33      NaN      NaN  \n",
      "TBN-051       NaN        NaN        NaN        NaN      NaN      NaN      NaN  \n",
      "TBN-052       NaN      -0.33        NaN        NaN     0.00      NaN      NaN  \n",
      "TBN-053       NaN      -1.00        NaN        NaN    -0.33      NaN      NaN  \n",
      "\n"
     ]
    },
    {
     "name": "stdout",
     "output_type": "stream",
     "text": [
      "[154 rows x 314 columns]\n"
     ]
    }
   ],
   "source": [
    "all_data = pd.concat([data_dict, label_data], axis=1, join='inner')\n",
    "print(all_data)"
   ]
  },
  {
   "cell_type": "code",
   "execution_count": 13,
   "metadata": {},
   "outputs": [
    {
     "name": "stdout",
     "output_type": "stream",
     "text": [
      "Index(['ak-left_rostral-mean', 'ak-left_rostral-std', 'ak-left_rostral-skew',\n",
      "       'ak-left_rostral-kurt', 'ak-left_rostral-etrp', 'ak-right_rostral-mean',\n",
      "       'ak-right_rostral-std', 'ak-right_rostral-skew',\n",
      "       'ak-right_rostral-kurt', 'ak-right_rostral-etrp',\n",
      "       ...\n",
      "       'mk-right_caudal-mean', 'mk-right_caudal-std', 'mk-right_caudal-skew',\n",
      "       'mk-right_caudal-kurt', 'mk-right_caudal-etrp',\n",
      "       'mk-corpus_callosum-mean', 'mk-corpus_callosum-std',\n",
      "       'mk-corpus_callosum-skew', 'mk-corpus_callosum-kurt',\n",
      "       'mk-corpus_callosum-etrp'],\n",
      "      dtype='object', length=280) Index(['HT102', 'HT103', 'HT105', 'HT106', 'HT107', 'HT109', 'HT111', 'HT112',\n",
      "       'HT113', 'HT114',\n",
      "       ...\n",
      "       'TBN-043', 'TBN-044', 'TBN-045', 'TBN-046', 'TBN-047', 'TBN-049',\n",
      "       'TBN-050', 'TBN-051', 'TBN-052', 'TBN-053'],\n",
      "      dtype='object', length=154)\n",
      "Index(['Unnamed: 0', 'T1 Letter Number', 'T2 Letter Number',\n",
      "       'T3 Letter Number', 'Digit Span Forward T1', 'Digit Span Forward T2',\n",
      "       'Digit Span Forward T3', 'Digit Span Backward T1',\n",
      "       'Digit Span Backward T2', 'Digit Span Backward T3', 'Trailmaking B T1',\n",
      "       'Trailmaking B T2', 'Trailmaking B T3', 'Trailmaking A T1',\n",
      "       'Trailmaking A T2', 'Trailmaking A T3', 'CVLT T1', 'CVLT T2', 'CVLT T3',\n",
      "       'RCFT Immediate T1', 'RCFT Immediate T2', 'RCFT Immediate T3',\n",
      "       'RCFT Delayed T1', 'RCFT Delayed T2', 'RCFT Delayed T3', 'DKEFS T1',\n",
      "       'DKEFS T2', 'DKEFS T3', 'Stroop T1', 'Stroop T2', 'Stroop T3',\n",
      "       'SDMT T1', 'SDMT T2', 'SDMT T3'],\n",
      "      dtype='object') Index(['HT102', 'HT103', 'HT105', 'HT106', 'HT107', 'HT109', 'HT111', 'HT112',\n",
      "       'HT113', 'HT114',\n",
      "       ...\n",
      "       'TBN-043', 'TBN-044', 'TBN-045', 'TBN-046', 'TBN-047', 'TBN-049',\n",
      "       'TBN-050', 'TBN-051', 'TBN-052', 'TBN-053'],\n",
      "      dtype='object', length=154)\n"
     ]
    }
   ],
   "source": [
    "reduce_data = all_data.iloc[:,0:280]\n",
    "print(reduce_data.columns, reduce_data.index)\n",
    "\n",
    "reduce_label = all_data.iloc[:,280:]\n",
    "print(reduce_label.columns, reduce_label.index)"
   ]
  },
  {
   "cell_type": "code",
   "execution_count": 14,
   "metadata": {},
   "outputs": [
    {
     "name": "stdout",
     "output_type": "stream",
     "text": [
      "new data file generated\n",
      "file exist, check the disk\n"
     ]
    }
   ],
   "source": [
    "savepath = 'data_154' + str(whichmask) + '.xlsx'\n",
    "\n",
    "if not os.path.isfile(savepath):\n",
    "    reduce_data.to_excel(savepath)\n",
    "    print('new data file generated')\n",
    "else:\n",
    "    print('file exist, check the disk')\n",
    "    \n",
    "if not os.path.isfile('label_154.xlsx'):\n",
    "    reduce_label.to_excel('label_154.xlsx')\n",
    "    print('new label file generated')\n",
    "else:\n",
    "    print('file exist, check the disk')"
   ]
  },
  {
   "cell_type": "code",
   "execution_count": null,
   "metadata": {},
   "outputs": [],
   "source": []
  }
 ],
 "metadata": {
  "kernelspec": {
   "display_name": "pytorch=1.0, CUDA=10.1",
   "language": "python",
   "name": "cs231"
  },
  "language_info": {
   "codemirror_mode": {
    "name": "ipython",
    "version": 3
   },
   "file_extension": ".py",
   "mimetype": "text/x-python",
   "name": "python",
   "nbconvert_exporter": "python",
   "pygments_lexer": "ipython3",
   "version": "3.6.8"
  }
 },
 "nbformat": 4,
 "nbformat_minor": 2
}
