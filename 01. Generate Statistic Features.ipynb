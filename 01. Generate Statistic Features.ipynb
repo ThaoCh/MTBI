{
 "cells": [
  {
   "cell_type": "code",
   "execution_count": 1,
   "metadata": {},
   "outputs": [],
   "source": [
    "###################### Importing Packages #########################################\n",
    "import os\n",
    "\n",
    "import numpy as np\n",
    "import pickle, random, time\n",
    "from sklearn import svm\n",
    "from itertools import chain, combinations\n",
    "from copy import deepcopy\n",
    "from sklearn.decomposition import PCA\n",
    "import pandas as pd\n",
    "import nibabel as nib\n",
    "\n",
    "from datautility import *\n",
    "\n",
    "from scipy.stats import kurtosis, moment\n",
    "from tqdm import tqdm\n",
    "from scipy.io import savemat\n",
    "\n",
    "%matplotlib inline\n",
    "%load_ext autoreload\n",
    "%autoreload 2"
   ]
  },
  {
   "cell_type": "code",
   "execution_count": 2,
   "metadata": {},
   "outputs": [],
   "source": [
    "prefrontal_file = './data/masks/Bilateral_prefrontalWM.nii'\n",
    "prefrontal_array = ((nib.load(prefrontal_file)).get_fdata()).astype(np.float32)"
   ]
  },
  {
   "cell_type": "markdown",
   "metadata": {},
   "source": [
    "## Defining Global Variable\n",
    "* 12 channels of metrics to use: [ad, ak, awf, eas_De_par, eas_De_perp, eas_tort, FA, ias_Da, md, mk, rd, rk]\n",
    "* 5 region mask: [1_L_thal, 2_R_thal, CC_Body_mask, CC_Genu_mask, CC_Splenium_mask]\n",
    "* 67 positive index and 50 negative index in 117 new subjects \n",
    "* 27 positive index and 22 negative index in 49 old subjects"
   ]
  },
  {
   "cell_type": "code",
   "execution_count": 2,
   "metadata": {},
   "outputs": [],
   "source": [
    "###################### Importing Packages #########################################\n",
    "metric = ['ad', 'ak', 'awf', 'eas_De_par', 'eas_De_perp', 'eas_tort', 'FA', 'ias_Da', 'md', 'mk', 'rd', 'rk']\n",
    "# 12 metrics in total\n",
    "mask_name = ['1_L_thal','2_R_thal','CC_Body_mask','CC_Genu_mask','CC_Splenium_mask']\n",
    "# 5 Regions in total\n",
    "stats = ['mean', 'std', '2m', '3m', '4m', 'kut']\n",
    "\n",
    "positive_idx = np.arange(73) + 1\n",
    "positive_idx = np.delete(positive_idx, [8, 15, 16, 17, 29, 33])\n",
    "\n",
    "# should be 67 postive in total\n",
    "\n",
    "negative_idx = np.arange(53) + 1\n",
    "negative_idx = np.delete(negative_idx, [14, 15, 16])\n",
    "\n",
    "# should be 50 negative in total\n",
    "\n",
    "OLD_PATH = './data/old_65subj_stats JFR.xlsx'\n",
    "\n",
    "old_data = pd.read_excel(OLD_PATH, header=0, index_col=0, sheet_name=0)\n",
    "old_idx = list(old_data.index)"
   ]
  },
  {
   "cell_type": "markdown",
   "metadata": {},
   "source": [
    "## Generating sample image and clown mask\n",
    "* using 5 region mask: [1_L_thal, 2_R_thal, CC_Body_mask, CC_Genu_mask, CC_Splenium_mask]"
   ]
  },
  {
   "cell_type": "code",
   "execution_count": 3,
   "metadata": {},
   "outputs": [],
   "source": [
    "mask = get_mask(mask_name)\n",
    "mask = (mask != 0).astype(np.float32)"
   ]
  },
  {
   "cell_type": "code",
   "execution_count": null,
   "metadata": {},
   "outputs": [],
   "source": [
    "mask_one = np.zeros([182, 218, 182])\n",
    "\n",
    "for i, m in enumerate(mask):\n",
    "    mask_one += (i+1)*m \n",
    "\n",
    "mask_one = mask_one + 6*prefrontal_array\n",
    "\n",
    "data = get_image(1, metric, positive=True)\n",
    "\n",
    "# savenii(data[0], 'ad_TBI001')\n",
    "# savenii(mask_one, '6_mask')"
   ]
  },
  {
   "cell_type": "markdown",
   "metadata": {},
   "source": [
    "## Generating 67 positive subjects among 117 new subjects\n",
    "* each subject has a feature vector of shape (360,)"
   ]
  },
  {
   "cell_type": "code",
   "execution_count": 4,
   "metadata": {
    "scrolled": false
   },
   "outputs": [
    {
     "name": "stderr",
     "output_type": "stream",
     "text": [
      "100%|██████████████████████████████████████████████████████████████████████████████████| 67/67 [08:58<00:00,  7.58s/it]\n"
     ]
    },
    {
     "name": "stdout",
     "output_type": "stream",
     "text": [
      "loading 67 positive subjects\n"
     ]
    }
   ],
   "source": [
    "# Generating positive data\n",
    "\n",
    "data_positive = []\n",
    "key_positive = []\n",
    "\n",
    "for p in tqdm(positive_idx):\n",
    "\n",
    "    data = get_image(p, metric, positive=True)\n",
    "    temp = np.zeros([len(metric), len(mask), 6])\n",
    "\n",
    "    for i, m in enumerate(data): # for metric in data\n",
    "        for j, k in enumerate(mask): # for mask in mask\n",
    "            mask_data = (m*k).reshape(-1)\n",
    "            mask_data = mask_data[mask_data != 0]\n",
    "\n",
    "            temp[i,j,0] = np.mean(mask_data)\n",
    "            temp[i,j,1] = np.std(mask_data)\n",
    "            temp[i,j,2] = moment(mask_data, moment=2)\n",
    "            temp[i,j,3] = moment(mask_data, moment=3)\n",
    "            temp[i,j,4] = moment(mask_data, moment=4)\n",
    "            temp[i,j,5] = kurtosis(mask_data)\n",
    "    temp = temp.reshape(-1) # a C style flattening, statics * mask * metric\n",
    "    data_positive.append(temp)\n",
    "    \n",
    "    key = 'TBI-' + '{:03}'.format(p)\n",
    "    key_positive.append(key)\n",
    "    \n",
    "print('loading {} positive subjects'.format(len(data_positive)))"
   ]
  },
  {
   "cell_type": "markdown",
   "metadata": {},
   "source": [
    "## Generating 50 positive subjects among 117 new subjects\n",
    "* each subject has a feature vector of shape (360,)"
   ]
  },
  {
   "cell_type": "code",
   "execution_count": null,
   "metadata": {},
   "outputs": [
    {
     "name": "stderr",
     "output_type": "stream",
     "text": [
      " 84%|████████████████████████████████████████████████████████████████████▉             | 42/50 [05:32<01:05,  8.19s/it]"
     ]
    }
   ],
   "source": [
    "data_negative = []\n",
    "key_negative = []\n",
    "\n",
    "for n in tqdm(negative_idx):\n",
    "\n",
    "    data = get_image(n, metric, positive=False)\n",
    "    temp = np.zeros([len(metric), len(mask), 6])\n",
    "\n",
    "    for i, m in enumerate(data): # for metric in data\n",
    "        for j, k in enumerate(mask): # for mask in mask\n",
    "            mask_data = (m*k).reshape(-1)\n",
    "            mask_data = mask_data[mask_data != 0]\n",
    "\n",
    "            temp[i,j,0] = np.mean(mask_data)\n",
    "            temp[i,j,1] = np.std(mask_data)\n",
    "            temp[i,j,2] = moment(mask_data, moment=2)\n",
    "            temp[i,j,3] = moment(mask_data, moment=3)\n",
    "            temp[i,j,4] = moment(mask_data, moment=4)\n",
    "            temp[i,j,5] = kurtosis(mask_data)\n",
    "    temp = temp.reshape(-1) # a C style flattening, statics * mask * metric\n",
    "    data_negative.append(temp)\n",
    "    key = 'TBN-' + '{:03}'.format(n)\n",
    "    key_negative.append(key)\n",
    "    \n",
    "print('loading {} negative subjects'.format(len(data_negative)))"
   ]
  },
  {
   "cell_type": "markdown",
   "metadata": {},
   "source": [
    "## Generating 49 subjects among 67 old images\n",
    "* Other 18 subjects are take MRI second time, ignore them for this dataset"
   ]
  },
  {
   "cell_type": "code",
   "execution_count": null,
   "metadata": {},
   "outputs": [],
   "source": [
    "data_old = []\n",
    "key_old = []\n",
    "\n",
    "for o, key in enumerate(tqdm(old_idx)):\n",
    "\n",
    "    data = get_old_image(o, metric)\n",
    "    temp = np.zeros([len(metric), len(mask), 6])\n",
    "\n",
    "    for i, m in enumerate(data): # for metric in data\n",
    "        for j, k in enumerate(mask): # for mask in mask\n",
    "            mask_data = (m*k).reshape(-1)\n",
    "            mask_data = mask_data[mask_data != 0]\n",
    "\n",
    "            temp[i,j,0] = np.mean(mask_data)\n",
    "            temp[i,j,1] = np.std(mask_data)\n",
    "            temp[i,j,2] = moment(mask_data, moment=2)\n",
    "            temp[i,j,3] = moment(mask_data, moment=3)\n",
    "            temp[i,j,4] = moment(mask_data, moment=4)\n",
    "            temp[i,j,5] = kurtosis(mask_data)\n",
    "    temp = temp.reshape(-1) # a C style flattening, statics * mask * metric\n",
    "    data_old.append(temp)\n",
    "    key_old.append(key)\n",
    "    \n",
    "print('loading {} old subjects'.format(len(data_old)))"
   ]
  },
  {
   "cell_type": "markdown",
   "metadata": {},
   "source": [
    "## Binding data\n",
    "* Sequence: old subjects -> positive new subjects -> negative new subjects\n",
    "* Generate column names as statistic * mask * metric"
   ]
  },
  {
   "cell_type": "code",
   "execution_count": 22,
   "metadata": {},
   "outputs": [],
   "source": [
    "data_all = []\n",
    "key_all = []\n",
    "\n",
    "data_all = data_old + data_positive + data_negative\n",
    "key_all = key_old + key_positive + key_negative"
   ]
  },
  {
   "cell_type": "code",
   "execution_count": 23,
   "metadata": {},
   "outputs": [],
   "source": [
    "import itertools\n",
    "\n",
    "pre_column = ['-'.join(i) for i in list(itertools.product(mask_name, metric))]\n",
    "index_column = ['-'.join(i) for i in list(itertools.product(stats, pre_column))]"
   ]
  },
  {
   "cell_type": "code",
   "execution_count": 24,
   "metadata": {},
   "outputs": [],
   "source": [
    "data_dict = pd.DataFrame(data=data_all, index=key_all, columns=index_column)\n",
    "\n",
    "####################### Save dataframe to Excel #############################################\n",
    "\n",
    "SAVE_PATH = './data/stats_data_gather.xlsx'\n",
    "if not os.path.isfile(SAVE_PATH):\n",
    "    data_dict.to_excel(SAVE_PATH)\n",
    "else:\n",
    "    print('file {} exists'.format(SAVE_PATH))"
   ]
  },
  {
   "cell_type": "code",
   "execution_count": 30,
   "metadata": {},
   "outputs": [
    {
     "name": "stdout",
     "output_type": "stream",
     "text": [
      "Index(['HT102', 'HT103', 'HT104', 'HT105', 'HT106', 'HT107', 'HT108', 'HT109',\n",
      "       'HT110', 'HT111',\n",
      "       ...\n",
      "       'TBN-043', 'TBN-044', 'TBN-045', 'TBN-046', 'TBN-047', 'TBN-049',\n",
      "       'TBN-050', 'TBN-051', 'TBN-052', 'TBN-053'],\n",
      "      dtype='object', name='Subject', length=172) Index(['Unnamed: 0', 'T1 Letter Number', 'T2 Letter Number',\n",
      "       'T3 Letter Number', 'Digit Span Forward T1', 'Digit Span Forward T2',\n",
      "       'Digit Span Forward T3', 'Digit Span Backward T1',\n",
      "       'Digit Span Backward T2', 'Digit Span Backward T3', 'Trailmaking B T1',\n",
      "       'Trailmaking B T2', 'Trailmaking B T3', 'Trailmaking A T1',\n",
      "       'Trailmaking A T2', 'Trailmaking A T3', 'CVLT T1', 'CVLT T2', 'CVLT T3',\n",
      "       'RCFT Immediate T1', 'RCFT Immediate T2', 'RCFT Immediate T3',\n",
      "       'RCFT Delayed T1', 'RCFT Delayed T2', 'RCFT Delayed T3', 'DKEFS T1',\n",
      "       'DKEFS T2', 'DKEFS T3', 'Stroop T1', 'Stroop T2', 'Stroop T3',\n",
      "       'SDMT T1', 'SDMT T2', 'SDMT T3'],\n",
      "      dtype='object')\n",
      "Index(['HT102', 'HT103', 'HT105', 'HT106', 'HT107', 'HT109', 'HT111', 'HT112',\n",
      "       'HT113', 'HT114',\n",
      "       ...\n",
      "       'TBN-044', 'TBN-045', 'TBN-046', 'TBN-047', 'TBN-048', 'TBN-049',\n",
      "       'TBN-050', 'TBN-051', 'TBN-052', 'TBN-053'],\n",
      "      dtype='object', length=166) Index(['mean-1_L_thal-ad', 'mean-1_L_thal-ak', 'mean-1_L_thal-awf',\n",
      "       'mean-1_L_thal-eas_De_par', 'mean-1_L_thal-eas_De_perp',\n",
      "       'mean-1_L_thal-eas_tort', 'mean-1_L_thal-FA', 'mean-1_L_thal-ias_Da',\n",
      "       'mean-1_L_thal-md', 'mean-1_L_thal-mk',\n",
      "       ...\n",
      "       'kut-CC_Splenium_mask-awf', 'kut-CC_Splenium_mask-eas_De_par',\n",
      "       'kut-CC_Splenium_mask-eas_De_perp', 'kut-CC_Splenium_mask-eas_tort',\n",
      "       'kut-CC_Splenium_mask-FA', 'kut-CC_Splenium_mask-ias_Da',\n",
      "       'kut-CC_Splenium_mask-md', 'kut-CC_Splenium_mask-mk',\n",
      "       'kut-CC_Splenium_mask-rd', 'kut-CC_Splenium_mask-rk'],\n",
      "      dtype='object', length=360)\n"
     ]
    }
   ],
   "source": [
    "LABEL_PATH = './data/merged_np.xlsx'\n",
    "label_data = pd.read_excel(LABEL_PATH, index_col=1, sheet_name=0)\n",
    "print(label_data.index, label_data.columns)\n",
    "\n",
    "DATA_PATH = './data/stats_data_gather.xlsx'\n",
    "stats_data = pd.read_excel(DATA_PATH, index_col=0, sheet_name=0)\n",
    "print(stats_data.index, stats_data.columns)"
   ]
  },
  {
   "cell_type": "code",
   "execution_count": 2,
   "metadata": {},
   "outputs": [
    {
     "ename": "NameError",
     "evalue": "name 'pd' is not defined",
     "output_type": "error",
     "traceback": [
      "\u001b[1;31m---------------------------------------------------------------------------\u001b[0m",
      "\u001b[1;31mNameError\u001b[0m                                 Traceback (most recent call last)",
      "\u001b[1;32m<ipython-input-2-6e167d8f093c>\u001b[0m in \u001b[0;36m<module>\u001b[1;34m\u001b[0m\n\u001b[1;32m----> 1\u001b[1;33m \u001b[0mall_data\u001b[0m \u001b[1;33m=\u001b[0m \u001b[0mpd\u001b[0m\u001b[1;33m.\u001b[0m\u001b[0mconcat\u001b[0m\u001b[1;33m(\u001b[0m\u001b[1;33m[\u001b[0m\u001b[0mstats_data\u001b[0m\u001b[1;33m,\u001b[0m \u001b[0mlabel_data\u001b[0m\u001b[1;33m]\u001b[0m\u001b[1;33m,\u001b[0m \u001b[0maxis\u001b[0m\u001b[1;33m=\u001b[0m\u001b[1;36m1\u001b[0m\u001b[1;33m,\u001b[0m \u001b[0mjoin\u001b[0m\u001b[1;33m=\u001b[0m\u001b[1;34m'inner'\u001b[0m\u001b[1;33m)\u001b[0m\u001b[1;33m\u001b[0m\u001b[1;33m\u001b[0m\u001b[0m\n\u001b[0m",
      "\u001b[1;31mNameError\u001b[0m: name 'pd' is not defined"
     ]
    }
   ],
   "source": [
    "all_data = pd.concat([stats_data, label_data], axis=1, join='inner')"
   ]
  },
  {
   "cell_type": "code",
   "execution_count": 1,
   "metadata": {},
   "outputs": [
    {
     "ename": "NameError",
     "evalue": "name 'all_data' is not defined",
     "output_type": "error",
     "traceback": [
      "\u001b[1;31m---------------------------------------------------------------------------\u001b[0m",
      "\u001b[1;31mNameError\u001b[0m                                 Traceback (most recent call last)",
      "\u001b[1;32m<ipython-input-1-87ba0bbaf8b6>\u001b[0m in \u001b[0;36m<module>\u001b[1;34m\u001b[0m\n\u001b[1;32m----> 1\u001b[1;33m \u001b[0mreduce_data\u001b[0m \u001b[1;33m=\u001b[0m \u001b[0mall_data\u001b[0m\u001b[1;33m.\u001b[0m\u001b[0miloc\u001b[0m\u001b[1;33m[\u001b[0m\u001b[1;33m:\u001b[0m\u001b[1;33m,\u001b[0m\u001b[1;36m0\u001b[0m\u001b[1;33m:\u001b[0m\u001b[1;36m360\u001b[0m\u001b[1;33m]\u001b[0m\u001b[1;33m\u001b[0m\u001b[1;33m\u001b[0m\u001b[0m\n\u001b[0m\u001b[0;32m      2\u001b[0m \u001b[0mprint\u001b[0m\u001b[1;33m(\u001b[0m\u001b[0mreduce_data\u001b[0m\u001b[1;33m.\u001b[0m\u001b[0mcolumns\u001b[0m\u001b[1;33m,\u001b[0m \u001b[0mreduce_data\u001b[0m\u001b[1;33m.\u001b[0m\u001b[0mindex\u001b[0m\u001b[1;33m)\u001b[0m\u001b[1;33m\u001b[0m\u001b[1;33m\u001b[0m\u001b[0m\n\u001b[0;32m      3\u001b[0m \u001b[1;33m\u001b[0m\u001b[0m\n\u001b[0;32m      4\u001b[0m \u001b[0mreduce_label\u001b[0m \u001b[1;33m=\u001b[0m \u001b[0mall_data\u001b[0m\u001b[1;33m.\u001b[0m\u001b[0miloc\u001b[0m\u001b[1;33m[\u001b[0m\u001b[1;33m:\u001b[0m\u001b[1;33m,\u001b[0m\u001b[1;36m360\u001b[0m\u001b[1;33m:\u001b[0m\u001b[1;33m]\u001b[0m\u001b[1;33m\u001b[0m\u001b[1;33m\u001b[0m\u001b[0m\n\u001b[0;32m      5\u001b[0m \u001b[0mprint\u001b[0m\u001b[1;33m(\u001b[0m\u001b[0mreduce_label\u001b[0m\u001b[1;33m.\u001b[0m\u001b[0mcolumns\u001b[0m\u001b[1;33m,\u001b[0m \u001b[0mreduce_label\u001b[0m\u001b[1;33m.\u001b[0m\u001b[0mindex\u001b[0m\u001b[1;33m)\u001b[0m\u001b[1;33m\u001b[0m\u001b[1;33m\u001b[0m\u001b[0m\n",
      "\u001b[1;31mNameError\u001b[0m: name 'all_data' is not defined"
     ]
    }
   ],
   "source": [
    "reduce_data = all_data.iloc[:,0:360]\n",
    "print(reduce_data.columns, reduce_data.index)\n",
    "\n",
    "reduce_label = all_data.iloc[:,360:]\n",
    "print(reduce_label.columns, reduce_label.index)"
   ]
  },
  {
   "cell_type": "code",
   "execution_count": 35,
   "metadata": {},
   "outputs": [],
   "source": [
    "reduce_data.to_excel('data_154.xlsx')\n",
    "reduce_label.to_excel('label_154.xlsx')"
   ]
  },
  {
   "cell_type": "code",
   "execution_count": null,
   "metadata": {},
   "outputs": [],
   "source": []
  }
 ],
 "metadata": {
  "kernelspec": {
   "display_name": "IVP",
   "language": "python",
   "name": "cs231"
  },
  "language_info": {
   "codemirror_mode": {
    "name": "ipython",
    "version": 3
   },
   "file_extension": ".py",
   "mimetype": "text/x-python",
   "name": "python",
   "nbconvert_exporter": "python",
   "pygments_lexer": "ipython3",
   "version": "3.7.2"
  }
 },
 "nbformat": 4,
 "nbformat_minor": 2
}
