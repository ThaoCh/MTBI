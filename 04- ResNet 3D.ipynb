{
 "cells": [
  {
   "cell_type": "code",
   "execution_count": 1,
   "metadata": {},
   "outputs": [],
   "source": [
    "import numpy as np\n",
    "import pandas as pd\n",
    "import matplotlib.pyplot as plt\n",
    "from tqdm import tqdm\n",
    "\n",
    "from datautility import *\n",
    "from dataset import *\n",
    "from vnet import *\n",
    "from training import *\n",
    "\n",
    "%matplotlib inline\n",
    "%load_ext autoreload\n",
    "%autoreload 2"
   ]
  },
  {
   "cell_type": "code",
   "execution_count": 2,
   "metadata": {},
   "outputs": [
    {
     "name": "stdout",
     "output_type": "stream",
     "text": [
      "using CPU for training\n"
     ]
    }
   ],
   "source": [
    "import torch\n",
    "import torch.nn as nn\n",
    "import torch.optim as optim\n",
    "\n",
    "from torch.utils.data import Dataset, DataLoader, sampler, SubsetRandomSampler\n",
    "from torchvision import transforms, utils\n",
    "\n",
    "import torch.nn.functional as F  # useful stateless functions\n",
    "import torchvision.transforms as T\n",
    "\n",
    "#------------------------------- GLOBAL VARIABLES -------------------------------------#\n",
    "\n",
    "USE_GPU = True\n",
    "BATCH_SIZE = 2\n",
    "NUM_WORKERS = 6\n",
    "NUM_TRAIN = 80 # 80 training sample and 37 validation sample\n",
    "LEARNING_RATE = 1e-2\n",
    "\n",
    "dtype = torch.float32 # we will be using float throughout this tutorial\n",
    "\n",
    "if USE_GPU and torch.cuda.is_available():\n",
    "    device = torch.device('cuda')\n",
    "    print('using GPU for training')\n",
    "else:\n",
    "    device = torch.device('cpu')\n",
    "    print('using CPU for training')"
   ]
  },
  {
   "cell_type": "markdown",
   "metadata": {},
   "source": [
    "## If Training new data only\n",
    "* Positive: 67 samples\n",
    "* Negative: 50 samples"
   ]
  },
  {
   "cell_type": "code",
   "execution_count": 3,
   "metadata": {},
   "outputs": [
    {
     "name": "stdout",
     "output_type": "stream",
     "text": [
      "117 subjects with 12 metrics each\n"
     ]
    }
   ],
   "source": [
    "positive_idx = np.arange(73) + 1\n",
    "positive_idx = np.delete(positive_idx, [8, 15, 16, 17, 29, 33])\n",
    "\n",
    "negative_idx = np.arange(53) + 1\n",
    "negative_idx = np.delete(negative_idx, [14, 15, 16])\n",
    "\n",
    "image_dict = np.concatenate((positive_idx, negative_idx))\n",
    "\n",
    "metric = ['ad', 'ak', 'awf', 'eas_De_par', 'eas_De_perp', 'eas_tort', 'FA', 'ias_Da', 'md', 'mk', 'rd', 'rk']\n",
    "print('{} subjects with {} metrics each'.format(len(image_dict), len(metric)))"
   ]
  },
  {
   "cell_type": "code",
   "execution_count": 4,
   "metadata": {
    "scrolled": false
   },
   "outputs": [],
   "source": [
    "regen = False\n",
    "\n",
    "if regen:\n",
    "    data_index = np.arange(107)\n",
    "    data_idnex = np.random.shuffle(data_index)\n",
    "    print(list(data_index))\n",
    "    \n",
    "else:\n",
    "    image_index = np.array ([40, 64, 58, 103, 19, 5, 68, 56, 66, 10, 75, 43, 1, 81, 83, 49, 11, 80, 102,\\\n",
    "                             82, 69, 13, 4, 61, 70, 100, 23, 72, 55, 16, 90, 53, 78, 21, 39, 25, 74, 42, 22,\\\n",
    "                             79, 48, 24, 2, 8, 9, 59, 0, 3, 91, 84, 15, 95, 106, 27, 94, 65, 96, 63, 7, 71,\\\n",
    "                             57, 30, 86, 62, 31, 93, 99, 104, 51, 50, 26, 17, 46, 35, 38, 60, 87, 20, 67, 77,\\\n",
    "                             45, 34, 44, 54, 41, 105, 88, 98, 85, 97, 6, 29, 101, 73, 28, 36, 76, 18, 89, 52,\\\n",
    "                             32, 14, 33, 47, 92, 37, 12]\n",
    "                            )\n",
    "\n",
    "dataset_image = MTBIDataset(image_dict, \n",
    "                            metric, \n",
    "                            transform=transforms.Compose([\n",
    "                                 downSample(2),\n",
    "                                 RandomAffine(15, 10)\n",
    "                            ]),\n",
    "                     )\n",
    "\n",
    "#-------------------------CREATE DATA LOADER FOR TRAIN AND VAL------------------------#\n",
    "\n",
    "data_size = len(dataset_image)\n",
    "\n",
    "train_loader = DataLoader(dataset_image, batch_size=BATCH_SIZE, \\\n",
    "                    sampler=sampler.SubsetRandomSampler(range(NUM_TRAIN)),\\\n",
    "                    num_workers=NUM_WORKERS)\n",
    "validation_loader = DataLoader(dataset_image, batch_size=BATCH_SIZE,\n",
    "                    sampler=sampler.SubsetRandomSampler(range(NUM_TRAIN,data_size)),\\\n",
    "                    num_workers=NUM_WORKERS)\n",
    "\n",
    "# data_set = MTBIDataset(image_dict, metric, transform=None, mode='new')"
   ]
  },
  {
   "cell_type": "code",
   "execution_count": 5,
   "metadata": {},
   "outputs": [
    {
     "name": "stdout",
     "output_type": "stream",
     "text": [
      "0 torch.Size([2, 12, 64, 96, 64]) torch.Size([2, 1])\n",
      "1 torch.Size([2, 12, 64, 96, 64]) torch.Size([2, 1])\n",
      "2 torch.Size([2, 12, 64, 96, 64]) torch.Size([2, 1])\n",
      "3 torch.Size([2, 12, 64, 96, 64]) torch.Size([2, 1])\n"
     ]
    }
   ],
   "source": [
    "for i_batch, sample_batched in enumerate(train_loader):\n",
    "    print(i_batch, sample_batched['image'].size(), \\\n",
    "          sample_batched['label'].size())\n",
    "    # observe 4th batch and stop.\n",
    "    if i_batch == 3:\n",
    "        # show_batch_image(sample_batched['image'],sample_batched['label'],BATCH_SIZE)\n",
    "        break"
   ]
  },
  {
   "cell_type": "code",
   "execution_count": null,
   "metadata": {},
   "outputs": [],
   "source": []
  },
  {
   "cell_type": "code",
   "execution_count": null,
   "metadata": {},
   "outputs": [],
   "source": [
    "model = LNet(img_size=(64, 96, 64))"
   ]
  },
  {
   "cell_type": "code",
   "execution_count": null,
   "metadata": {},
   "outputs": [],
   "source": []
  }
 ],
 "metadata": {
  "kernelspec": {
   "display_name": "IVP",
   "language": "python",
   "name": "cs231"
  },
  "language_info": {
   "codemirror_mode": {
    "name": "ipython",
    "version": 3
   },
   "file_extension": ".py",
   "mimetype": "text/x-python",
   "name": "python",
   "nbconvert_exporter": "python",
   "pygments_lexer": "ipython3",
   "version": "3.7.2"
  }
 },
 "nbformat": 4,
 "nbformat_minor": 2
}
