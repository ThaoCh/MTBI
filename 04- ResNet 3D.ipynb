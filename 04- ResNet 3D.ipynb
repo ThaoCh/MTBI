{
 "cells": [
  {
   "cell_type": "code",
   "execution_count": 1,
   "metadata": {},
   "outputs": [],
   "source": [
    "import numpy as np\n",
    "import pandas as pd\n",
    "import matplotlib.pyplot as plt\n",
    "from tqdm import tqdm\n",
    "\n",
    "from datautility import *\n",
    "from dataset import *\n",
    "from vnet import *\n",
    "from training import *\n",
    "\n",
    "%matplotlib inline\n",
    "%load_ext autoreload\n",
    "%autoreload 2"
   ]
  },
  {
   "cell_type": "code",
   "execution_count": 2,
   "metadata": {},
   "outputs": [
    {
     "name": "stdout",
     "output_type": "stream",
     "text": [
      "using GPU for training\n"
     ]
    }
   ],
   "source": [
    "import torch\n",
    "import torch.nn as nn\n",
    "import torch.optim as optim\n",
    "\n",
    "from torch.utils.data import Dataset, DataLoader, sampler, SubsetRandomSampler\n",
    "from torchvision import transforms, utils\n",
    "\n",
    "import torch.nn.functional as F  # useful stateless functions\n",
    "import torchvision.transforms as T\n",
    "\n",
    "#------------------------------- GLOBAL VARIABLES -------------------------------------#\n",
    "\n",
    "USE_GPU = True\n",
    "BATCH_SIZE = 4\n",
    "NUM_WORKERS = 6\n",
    "NUM_TRAIN = 80 # 80 training sample and 37 validation sample\n",
    "LEARNING_RATE = 1e-2\n",
    "\n",
    "dtype = torch.float32 # we will be using float throughout this tutorial\n",
    "\n",
    "if USE_GPU and torch.cuda.is_available():\n",
    "    device = torch.device('cuda')\n",
    "    print('using GPU for training')\n",
    "else:\n",
    "    device = torch.device('cpu')\n",
    "    print('using CPU for training')"
   ]
  },
  {
   "cell_type": "markdown",
   "metadata": {},
   "source": [
    "## If Training new data only\n",
    "* Positive: 67 samples\n",
    "* Negative: 50 samples"
   ]
  },
  {
   "cell_type": "code",
   "execution_count": 3,
   "metadata": {},
   "outputs": [
    {
     "name": "stdout",
     "output_type": "stream",
     "text": [
      "117 subjects with 9 metrics each\n"
     ]
    }
   ],
   "source": [
    "positive_idx = np.arange(73) + 1\n",
    "positive_idx = np.delete(positive_idx, [8, 15, 16, 17, 29, 33])\n",
    "\n",
    "negative_idx = np.arange(53) + 1\n",
    "negative_idx = np.delete(negative_idx, [14, 15, 16])\n",
    "\n",
    "image_dict = np.concatenate((positive_idx, negative_idx))\n",
    "\n",
    "metric = ['ak', 'awf', 'eas_De_par', 'eas_De_perp', 'FA', 'ias_Da', 'md', 'mk', 'rk'] # 9 Channels selected from Paper\n",
    "print('{} subjects with {} metrics each'.format(len(image_dict), len(metric)))"
   ]
  },
  {
   "cell_type": "code",
   "execution_count": 4,
   "metadata": {
    "scrolled": false
   },
   "outputs": [],
   "source": [
    "regen = False\n",
    "\n",
    "if regen:\n",
    "    data_index = np.arange(117)\n",
    "    data_idnex = np.random.shuffle(data_index)\n",
    "    print(list(data_index))\n",
    "    \n",
    "else:\n",
    "    data_idnex = np.array ([10, 22, 1, 86, 74, 109, 54, 59, 75, 4, 26, 5, 79, 40, 39, 112,\\\n",
    "                            104, 51, 116, 80, 77, 57, 3, 85, 29, 55, 18, 87, 50, 27, 0, 108,\\\n",
    "                            45, 34, 46, 15, 6, 102, 68, 64, 32, 89, 2, 100, 25, 67, 70, 113,\\\n",
    "                            81, 56, 8, 110, 35, 47, 115, 23, 88, 63, 17, 99, 49, 30, 92, 78,\\\n",
    "                            37, 19, 48, 24, 28, 103, 73, 95, 96, 20, 11, 9, 33, 60, 7, 76,\\\n",
    "                            71, 93, 65, 106, 53, 13, 111, 101, 12, 42, 16, 91, 43, 84, 97,\\\n",
    "                            72, 41, 82, 83, 66, 94, 31, 90, 98, 114, 107, 44, 58, 52, 61, 69,\\\n",
    "                            38, 36, 62, 105, 14, 21]\n",
    "                            )\n",
    "\n",
    "dataset_image = MTBIDataset(data_idnex,\n",
    "                            image_dict, \n",
    "                            metric, \n",
    "                            transform=transforms.Compose([\n",
    "                                 downSample(2),\n",
    "                                 RandomAffine(15, 10)\n",
    "                            ]),\n",
    "                     )\n",
    "\n",
    "#-------------------------CREATE DATA LOADER FOR TRAIN AND VAL------------------------#\n",
    "\n",
    "data_size = len(dataset_image)\n",
    "\n",
    "train_loader = DataLoader(dataset_image, batch_size=BATCH_SIZE, \\\n",
    "                    sampler=sampler.SubsetRandomSampler(range(NUM_TRAIN)),\\\n",
    "                    num_workers=NUM_WORKERS)\n",
    "validation_loader = DataLoader(dataset_image, batch_size=BATCH_SIZE,\n",
    "                    sampler=sampler.SubsetRandomSampler(range(NUM_TRAIN,data_size)),\\\n",
    "                    num_workers=NUM_WORKERS)\n",
    "\n",
    "# data_set = MTBIDataset(image_dict, metric, transform=None, mode='new')"
   ]
  },
  {
   "cell_type": "code",
   "execution_count": null,
   "metadata": {},
   "outputs": [],
   "source": [
    "for i_batch, sample_batched in enumerate(validation_loader):\n",
    "    print(i_batch, sample_batched['image'].size(), \\\n",
    "          sample_batched['label'].size())\n",
    "    # observe 4th batch and stop.\n",
    "    if i_batch == 8:\n",
    "        # show_batch_image(sample_batched['image'],sample_batched['label'],BATCH_SIZE)\n",
    "        break"
   ]
  },
  {
   "cell_type": "code",
   "execution_count": 5,
   "metadata": {},
   "outputs": [],
   "source": [
    "#-------------------------NEW MODEL INIT WEIGHT--------------------------------------#\n",
    "\n",
    "LoadCKP = False\n",
    "CKPPath = 'checkpoint2019-03-31 13:33:50.772063.pth'\n",
    "\n",
    "model = LNet(img_size=(64, 96, 64))\n",
    "model.apply(weights_init)\n",
    "optimizer = optim.Adam(model.parameters(), lr=LEARNING_RATE)\n",
    "scheduler = ReduceLROnPlateau(optimizer, mode='min', patience=50, verbose=True)\n",
    "\n",
    "if LoadCKP:\n",
    "    model, optimizer, scheduler = loadckp(model, optimizer, scheduler, CKPPath, device=device)"
   ]
  },
  {
   "cell_type": "code",
   "execution_count": null,
   "metadata": {
    "scrolled": false
   },
   "outputs": [],
   "source": [
    "loss = nn.BCELoss()\n",
    "\n",
    "train(model, train_loader, validation_loader, optimizer, scheduler, device, dtype, lossFun=loss, epochs=500, streopch=0)"
   ]
  },
  {
   "cell_type": "code",
   "execution_count": null,
   "metadata": {},
   "outputs": [],
   "source": []
  }
 ],
 "metadata": {
  "kernelspec": {
   "display_name": "pytorch=1.0, CUDA=10.1",
   "language": "python",
   "name": "cs231"
  },
  "language_info": {
   "codemirror_mode": {
    "name": "ipython",
    "version": 3
   },
   "file_extension": ".py",
   "mimetype": "text/x-python",
   "name": "python",
   "nbconvert_exporter": "python",
   "pygments_lexer": "ipython3",
   "version": "3.6.8"
  }
 },
 "nbformat": 4,
 "nbformat_minor": 2
}
