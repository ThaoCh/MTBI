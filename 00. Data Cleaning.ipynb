{
 "cells": [
  {
   "cell_type": "code",
   "execution_count": 1,
   "metadata": {},
   "outputs": [],
   "source": [
    "import numpy as np\n",
    "import pickle\n",
    "import nibabel as nib\n",
    "import matplotlib.pyplot as plt\n",
    "import pandas as pd\n",
    "import os\n",
    "import itertools\n",
    "from scipy.io import loadmat"
   ]
  },
  {
   "cell_type": "code",
   "execution_count": 2,
   "metadata": {},
   "outputs": [],
   "source": [
    "def show_slice(data, N):\n",
    "    '''\n",
    "    data: 3d ndarray\n",
    "    N: number of slice taken at X axis\n",
    "    '''\n",
    "    slices = np.round (np.linspace (0, data.shape[0], N, endpoint=False)).astype(np.int16)\n",
    "    fig, ax = plt.subplots(1, N, figsize=(15, 4), sharey=True)\n",
    "\n",
    "    for i,s in enumerate(slices):\n",
    "        ax[i].imshow(data[s], cmap='gray')\n",
    "        \n",
    "def show_negative(index, metric):\n",
    "    for m in metric:\n",
    "        PATH = './data/current_cycle_117subj_all_metrics/mat/'+m+'_TBI'+'{:03}'.format(index)+'.mat'\n",
    "        data = loadmat(PATH)\n",
    "        print(data['vol'].shape)\n",
    "        show_slice(data['vol'], N=8)"
   ]
  },
  {
   "cell_type": "code",
   "execution_count": 3,
   "metadata": {
    "scrolled": true
   },
   "outputs": [],
   "source": [
    "metric = ['ad', 'ak', 'awf', 'eas_De_par', 'eas_De_perp', 'eas_tort', 'FA', 'ias_Da', 'md', 'mk', 'rd', 'rk']\n",
    "# show_negative(1, metric)"
   ]
  },
  {
   "cell_type": "code",
   "execution_count": 4,
   "metadata": {},
   "outputs": [
    {
     "name": "stdout",
     "output_type": "stream",
     "text": [
      "(182, 218, 182)\n"
     ]
    },
    {
     "data": {
      "image/png": "[encoded data removed]",
      "text/plain": [
       "<Figure size 1080x288 with 15 Axes>"
      ]
     },
     "metadata": {
      "needs_background": "light"
     },
     "output_type": "display_data"
    }
   ],
   "source": [
    "img0 = loadmat('./data/masks/CC_Splenium_mask.mat')['vol']\n",
    "img1 = loadmat('./data/masks/CC_Genu_mask.mat')['vol']\n",
    "img2 = loadmat('./data/masks/CC_Body_mask.mat')['vol']\n",
    "img3 = loadmat('./data/masks/2_R_thal.mat')['vol']\n",
    "img4 = loadmat('./data/masks/1_L_thal.mat')['vol']\n",
    "\n",
    "print(img0.shape)\n",
    "\n",
    "img = img0 + img1*2 + img2*3 + img3*4 + img4*5\n",
    "\n",
    "show_slice(img, 15)"
   ]
  },
  {
   "cell_type": "markdown",
   "metadata": {},
   "source": [
    "# 0. View the Masks\n",
    "* JHU-ICBM-labels-1mm_CortexWM \n",
    "* JHU-ICBM-labels-1mm_7ROI\n",
    "* Bilateral_prefrontalWM"
   ]
  },
  {
   "cell_type": "code",
   "execution_count": 3,
   "metadata": {},
   "outputs": [
    {
     "data": {
      "image/png": "[encoded data removed]",
      "text/plain": [
       "<Figure size 1080x288 with 8 Axes>"
      ]
     },
     "metadata": {
      "needs_background": "light"
     },
     "output_type": "display_data"
    },
    {
     "data": {
      "image/png": "[encoded data removed]",
      "text/plain": [
       "<Figure size 1080x288 with 8 Axes>"
      ]
     },
     "metadata": {
      "needs_background": "light"
     },
     "output_type": "display_data"
    },
    {
     "data": {
      "image/png": "[encoded data removed]",
      "text/plain": [
       "<Figure size 1080x288 with 8 Axes>"
      ]
     },
     "metadata": {
      "needs_background": "light"
     },
     "output_type": "display_data"
    }
   ],
   "source": [
    "PATH = './data/masks'\n",
    "APPEND = '.nii'\n",
    "FNAME = ['JHU-ICBM-labels-1mm_CortexWM', 'JHU-ICBM-labels-1mm_7ROI', 'Bilateral_prefrontalWM']\n",
    "\n",
    "for f in FNAME:\n",
    "    data_file = os.path.join(PATH, f + APPEND)\n",
    "    data = ((nib.load(data_file)).get_fdata()).astype(np.float32)\n",
    "    data = np.squeeze(data)\n",
    "    \n",
    "    N = 8\n",
    "    slices = np.round (np.linspace (0, data.shape[0], N, endpoint=False)).astype(np.int16)\n",
    "    fig, ax = plt.subplots(1, N, figsize=(15, 4), sharey=True)\n",
    "    \n",
    "    for i,s in enumerate(slices):\n",
    "        ax[i].imshow(data[s], cmap='gray')"
   ]
  },
  {
   "cell_type": "markdown",
   "metadata": {},
   "source": [
    "## 1. Generating Statistics for Regions into DataFrame\n",
    "* For the old data, 7 regions are extracted: L_Thal, R_Thal, CC_Genu, CC_Body, CC_Splenium, L_PrefrontalWM, R_PrefrontalWM\n",
    "* For the new data, 5 regions are extracted: L_Thal, R_Thal, CC_Genu, CC_Body, CC_Splenium\n",
    "* FA, AD, AK, AWF, Depar, Deparp, TORT, DA, MD, MK, RD, RK are extracted from original data\n",
    "* FA, MD, MK, AWF, AK, Depar, Deperp, DA are the metrics\n",
    "* Save to STA_PATH = './data/stats_data_fix.xlsx'"
   ]
  },
  {
   "cell_type": "code",
   "execution_count": 4,
   "metadata": {},
   "outputs": [
    {
     "name": "stdout",
     "output_type": "stream",
     "text": [
      "in total 182 subjects with 120 of features each\n",
      "file ./data/stats_data.xlsx exists\n",
      "         all_FA_mean-L_Thal  all_FA_mean-R_Thal  all_FA_mean-CC_Genu  \\\n",
      "TBI-001            0.266784            0.265396             0.523170   \n",
      "TBI-002            0.240462            0.253854             0.506335   \n",
      "TBI-003            0.278239            0.290727             0.597240   \n",
      "TBI-004            0.273632            0.263880             0.563912   \n",
      "TBI-005            0.283758            0.281879             0.554684   \n",
      "\n",
      "         all_FA_mean-CC_Body  all_FA_mean-CC_Splenium  all_FA_std-L_Thal  \\\n",
      "TBI-001             0.514349                 0.591073           0.062290   \n",
      "TBI-002             0.468979                 0.567452           0.053853   \n",
      "TBI-003             0.542360                 0.641320           0.067453   \n",
      "TBI-004             0.501947                 0.641861           0.078779   \n",
      "TBI-005             0.547689                 0.632148           0.066329   \n",
      "\n",
      "         all_FA_std-R_Thal  all_FA_std-CC_Genu  all_FA_std-CC_Body  \\\n",
      "TBI-001           0.067281            0.166833            0.130479   \n",
      "TBI-002           0.058747            0.169732            0.121676   \n",
      "TBI-003           0.058375            0.188564            0.131724   \n",
      "TBI-004           0.057159            0.178871            0.113621   \n",
      "TBI-005           0.060127            0.166389            0.125635   \n",
      "\n",
      "         all_FA_std-CC_Splenium  ...  all_rk_mean-L_Thal  all_rk_mean-R_Thal  \\\n",
      "TBI-001                0.113363  ...            0.582574            0.505016   \n",
      "TBI-002                0.103725  ...            0.522446            0.519405   \n",
      "TBI-003                0.118330  ...            0.587667            0.604852   \n",
      "TBI-004                0.126017  ...            0.651131            0.561530   \n",
      "TBI-005                0.115622  ...            0.584519            0.602312   \n",
      "\n",
      "         all_rk_mean-CC_Genu  all_rk_mean-CC_Body  all_rk_mean-CC_Splenium  \\\n",
      "TBI-001             1.253824             1.173238                 1.484526   \n",
      "TBI-002             1.340261             1.274829                 1.371867   \n",
      "TBI-003             1.807428             1.445749                 1.531621   \n",
      "TBI-004             1.604690             1.242031                 1.758721   \n",
      "TBI-005             1.657208             1.379229                 1.525961   \n",
      "\n",
      "         all_rk_std-L_Thal  all_rk_std-R_Thal  all_rk_std-CC_Genu  \\\n",
      "TBI-001           0.170357           0.130165            0.464687   \n",
      "TBI-002           0.137777           0.143244            0.537817   \n",
      "TBI-003           0.177299           0.185577            0.915945   \n",
      "TBI-004           0.174045           0.128911            0.772543   \n",
      "TBI-005           0.156225           0.162875            0.602882   \n",
      "\n",
      "         all_rk_std-CC_Body  all_rk_std-CC_Splenium  \n",
      "TBI-001            0.272871                0.408498  \n",
      "TBI-002            0.274892                0.297247  \n",
      "TBI-003            0.403721                0.419520  \n",
      "TBI-004            0.278372                0.491973  \n",
      "TBI-005            0.362732                0.386873  \n",
      "\n",
      "[5 rows x 120 columns]\n"
     ]
    }
   ],
   "source": [
    "####################### Setting up the Path and Keys ########################################\n",
    "\n",
    "OLD_PATH = './data/old_65subj_stats JFR.xlsx'\n",
    "NEW_PATH = './data/117_Stats_Rep.xlsx'\n",
    "\n",
    "old_data = pd.read_excel(OLD_PATH, header=0, index_col=0, sheet_name=None)\n",
    "new_data = pd.read_excel(NEW_PATH, header=0, index_col=0, sheet_name=None)\n",
    "\n",
    "old_keys = ['all_FA_mean', 'all_FA_std',  # FA\n",
    "            'all_ad_uthr6_mean', 'all_ad_uthr6_std', # AD\n",
    "            'all_ak_mean', 'all_ak_std',  # AK\n",
    "            'all_awf_mean', 'all_awf_std', # AWF\n",
    "            'all_eas_de_par_uthr6_mean', 'all_eas_de_par_uthr6_std', # DEPAR \n",
    "            'all_eas_de_perp_uthr6_mean', 'all_eas_de_perp_uthr6_std',  # DEPERP\n",
    "            'all_eas_tort_uthr9_mean', 'all_eas_tort_uthr9_std', # TORT\n",
    "            'all_ias_Da_uthr5_mean', 'all_ias_Da_uthr5_std', # DA\n",
    "            'all_md_uthr5_mean', 'all_md_uthr5_std', # MD\n",
    "            'all_mk_uthr5_mean', 'all_mk_uthr5_std', # MK\n",
    "            'all_rd_uthr5_mean', 'all_rd_uthr5_std', # RD\n",
    "            'all_rk_uthr5_mean', 'all_rk_uthr5_std' # RK\n",
    "]\n",
    "\n",
    "new_keys = ['all_FA_mean', 'all_FA_std', # FA\n",
    "            'all_ad_uthr6_mean', 'all_ad_uthr6_std', # AD\n",
    "            'all_ak_mean', 'all_ak_std', # AK\n",
    "            'all_awf_mean', 'all_awf_std', # AWF\n",
    "            'all_eas_De_par_mean', 'all_eas_De_par_std', # DEPAR\n",
    "            'all_eas_De_perp_mean', 'all_eas_De_perp_std', # DEPREP\n",
    "            'all_tort_mean', 'all_tort_std', # TORT\n",
    "            'all_Da_mean', 'all_Da_std', # DA\n",
    "            'all_md_mean', 'all_md_std', # MD\n",
    "            'all_mk_mean', 'all_mk_std', # MK\n",
    "            'all_rd_mean', 'all_rd_std', # RD\n",
    "            'all_rk_mean', 'all_rk_std', # RK\n",
    "]\n",
    "\n",
    "mask_keys = ['L_Thal', 'R_Thal', 'CC_Genu', 'CC_Body', 'CC_Splenium']\n",
    "\n",
    "####################### Rescheduling the columns and row label ##############################\n",
    "\n",
    "Index_column = ['-'.join(i) for i in list(itertools.product(new_keys, mask_keys))]\n",
    "\n",
    "data_TBI_index = np.arange(start=1, stop=74)\n",
    "data_TBN_index = np.arange(start=1, stop=54)\n",
    "\n",
    "data_TBI_index = np.delete(data_TBI_index, [8,15,16,17,29,33])\n",
    "data_TBN_index = np.delete(data_TBN_index, [14, 15, 16])\n",
    "\n",
    "Index_TBI = ['TBI-' + '{:03}'.format(i) for i in data_TBI_index]\n",
    "Index_TBN = ['TBN-' + '{:03}'.format(i) for i in data_TBN_index]\n",
    "\n",
    "Index_row = Index_TBI + Index_TBN + list (old_data['all_FA_mean'].index)\n",
    "\n",
    "data_list = [] # Final Data List\n",
    "\n",
    "####################### Combining old data with the news ####################################\n",
    "\n",
    "for okey, nkey in zip(old_keys, new_keys):\n",
    "    \n",
    "    old_temp = old_data[okey].iloc[:, 0:5].values\n",
    "    new_temp = new_data[nkey].values\n",
    "    \n",
    "    temp = np.vstack([new_temp, old_temp]) # new on top of old\n",
    "    data_list.append(temp)\n",
    "\n",
    "data = np.hstack(data_list)\n",
    "print('in total {} subjects with {} of features each'.format(*data.shape))\n",
    "\n",
    "data_dic = pd.DataFrame(data=data, index=Index_row, columns=Index_column)\n",
    "\n",
    "####################### Save dataframe to Excel #############################################\n",
    "\n",
    "STA_PATH = './data/stats_data.xlsx'\n",
    "if not os.path.isfile(STA_PATH):\n",
    "    data_dic.to_excel(STA_PATH)\n",
    "else:\n",
    "    print('file {} exists'.format(STA_PATH))\n",
    "    \n",
    "print(data_dic.head())"
   ]
  },
  {
   "cell_type": "markdown",
   "metadata": {},
   "source": [
    "## 2. Combining Data with the Ground Truth\n",
    "* In total 154 subs have both data and at least one label\n",
    "* first 120 columns are features, the rest are labels"
   ]
  },
  {
   "cell_type": "code",
   "execution_count": null,
   "metadata": {},
   "outputs": [],
   "source": [
    "####################### Setting up the Path and Keys ########################################\n",
    "\n",
    "DATA_PATH = './data/stats_data.xlsx'\n",
    "LABEL_PATH = './data/merged_np.xlsx'\n",
    "\n",
    "data_df = pd.read_excel(DATA_PATH, index_col=0)\n",
    "label_df = pd.read_excel(LABEL_PATH,  sheet_name=1, index_col=1)\n",
    "\n",
    "sub_data = np.array (list (data_df.index))\n",
    "sub_label = np.array (list (label_df.index))\n",
    "\n",
    "haveSubject = (sub_data[None,:] == sub_label[:,None]).astype(np.int16)\n",
    "\n",
    "sub_index = []\n",
    "\n",
    "####################### Finding the subjects shared by data and label #######################\n",
    "\n",
    "for i in range (haveSubject.shape[1]):\n",
    "    if np.sum(haveSubject[:,i]):\n",
    "        data_idx = i\n",
    "        label_idx = np.argmax(haveSubject[:,i])\n",
    "        sub_index.append((data_idx, label_idx))\n",
    "\n",
    "sub_index_data = [i[0] for i in sub_index]\n",
    "sub_index_label = [i[1] for i in sub_index]        \n",
    "\n",
    "data_df = data_df.iloc[sub_index_data, :]\n",
    "label_df = label_df.iloc[sub_index_label,:]\n",
    "\n",
    "whole_data = pd.concat([data_df, label_df], axis=1)\n",
    "\n",
    "####################### Save dataframe to Excel #############################################\n",
    "\n",
    "WDTA_PATH = './data/stats_data_label.xlsx'\n",
    "\n",
    "if not os.path.isfile(WDTA_PATH):\n",
    "    whole_data.to_excel(WDTA_PATH)\n",
    "else:\n",
    "    print('file {} exists'.format(WDTA_PATH))\n",
    "    \n",
    "print(whole_data.head())"
   ]
  },
  {
   "cell_type": "code",
   "execution_count": null,
   "metadata": {},
   "outputs": [],
   "source": [
    "data_flitered = whole_data [whole_data['T1 Letter Number'].notnull()]\n",
    "X = data_flitered.values [:,0:120]\n",
    "Y = data_flitered.values [:,121:122] # T1 Letter Number"
   ]
  },
  {
   "cell_type": "code",
   "execution_count": null,
   "metadata": {},
   "outputs": [],
   "source": [
    "from sklearn.model_selection import train_test_split\n",
    "\n",
    "Xtr, Xts, Ytr, Yts = train_test_split(X, Y.ravel(), test_size=0.333)"
   ]
  },
  {
   "cell_type": "code",
   "execution_count": null,
   "metadata": {},
   "outputs": [],
   "source": [
    "from sklearn.ensemble import RandomForestRegressor\n",
    "from sklearn.model_selection import cross_val_score\n",
    "from sklearn.linear_model import Lasso\n",
    "from sklearn.model_selection import GridSearchCV, KFold\n",
    "\n",
    "regr = Lasso()\n",
    "cv = KFold(n_splits=5, shuffle=True)\n",
    "parameters = { 'alpha':np.arange(100)/50}\n",
    "\n",
    "regr_grid = GridSearchCV(regr, parameters, cv = cv, scoring= 'r2', n_jobs=-1, verbose=10)\n",
    "regr_grid.fit(X, Y)\n",
    "print(regr_grid.best_score_)"
   ]
  },
  {
   "cell_type": "code",
   "execution_count": null,
   "metadata": {},
   "outputs": [],
   "source": [
    "model = RandomForestRegressor()\n",
    "\n",
    "parameters = { 'min_samples_leaf':[1,2,4,8,16],'max_depth':[2,4,8,16],'n_estimators':[500]}\n",
    "model_grid = GridSearchCV(model, parameters, cv = cv, scoring= 'r2', n_jobs=-1, verbose=10)\n",
    "\n",
    "model_grid.fit(X, Y)\n",
    "print(model_grid.best_score_)"
   ]
  },
  {
   "cell_type": "code",
   "execution_count": null,
   "metadata": {},
   "outputs": [],
   "source": [
    "from sklearn.metrics import mean_squared_error, r2_score\n",
    "\n",
    "Ypred = regr.predict(Xts)\n",
    "print(mean_squared_error(Yts, Ypred), r2_score(Yts, Ypred))"
   ]
  },
  {
   "cell_type": "code",
   "execution_count": null,
   "metadata": {},
   "outputs": [],
   "source": [
    "X = data_flitered.values [:,idx_sel]\n",
    "Y = data_flitered.values [:,121:122] # T1 Letter Number\n",
    "\n",
    "Xtr, Xts, Ytr, Yts = train_test_split(X, Y.ravel(), test_size=0.333)"
   ]
  },
  {
   "cell_type": "code",
   "execution_count": null,
   "metadata": {},
   "outputs": [],
   "source": [
    "\n",
    "model = RandomForestRegressor()\n",
    "\n",
    "parameters = { 'min_samples_leaf':[5,10],'max_depth':[10],'n_estimators':[500]}\n",
    "model_grid = GridSearchCV(model, parameters, cv = 5, scoring= 'r2', n_jobs=-1, verbose=10)\n",
    "\n",
    "model_grid.fit(X, Y)"
   ]
  },
  {
   "cell_type": "code",
   "execution_count": null,
   "metadata": {},
   "outputs": [],
   "source": [
    "print(model_grid.best_score_)"
   ]
  },
  {
   "cell_type": "code",
   "execution_count": null,
   "metadata": {},
   "outputs": [],
   "source": [
    "regr = RandomForestRegressor(max_depth=10,min_samples_leaf=5, random_state=0, n_estimators=500)\n",
    "regr.fit(Xtr, Ytr)\n",
    "\n",
    "Ytrhat = regr.predict(Xtr)\n",
    "Ypred = regr.predict(Xts)\n",
    "print(mean_squared_error(Ytr, Ytrhat), r2_score(Ytr, Ytrhat))\n",
    "print(mean_squared_error(Yts, Ypred), r2_score(Yts, Ypred))"
   ]
  },
  {
   "cell_type": "code",
   "execution_count": null,
   "metadata": {},
   "outputs": [],
   "source": []
  },
  {
   "cell_type": "code",
   "execution_count": null,
   "metadata": {},
   "outputs": [],
   "source": []
  },
  {
   "cell_type": "code",
   "execution_count": null,
   "metadata": {},
   "outputs": [],
   "source": []
  },
  {
   "cell_type": "code",
   "execution_count": null,
   "metadata": {},
   "outputs": [],
   "source": []
  },
  {
   "cell_type": "code",
   "execution_count": null,
   "metadata": {},
   "outputs": [],
   "source": []
  },
  {
   "cell_type": "markdown",
   "metadata": {},
   "source": []
  },
  {
   "cell_type": "code",
   "execution_count": null,
   "metadata": {},
   "outputs": [],
   "source": [
    "STA_PATH = './data/stats_data.p'\n",
    "stat = pickle.load(open(STA_PATH, \"rb\"))\n",
    "\n",
    "print(stat.shape)"
   ]
  },
  {
   "cell_type": "code",
   "execution_count": null,
   "metadata": {},
   "outputs": [],
   "source": []
  }
 ],
 "metadata": {
  "kernelspec": {
   "display_name": "IVP",
   "language": "python",
   "name": "cs231"
  },
  "language_info": {
   "codemirror_mode": {
    "name": "ipython",
    "version": 3
   },
   "file_extension": ".py",
   "mimetype": "text/x-python",
   "name": "python",
   "nbconvert_exporter": "python",
   "pygments_lexer": "ipython3",
   "version": "3.7.2"
  }
 },
 "nbformat": 4,
 "nbformat_minor": 2
}
